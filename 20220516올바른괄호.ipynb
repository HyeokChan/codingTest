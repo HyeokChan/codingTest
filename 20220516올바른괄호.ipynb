{
 "cells": [
  {
   "cell_type": "markdown",
   "metadata": {},
   "source": [
    "올바른 괄호"
   ]
  },
  {
   "cell_type": "markdown",
   "metadata": {},
   "source": [
    "괄호가 바르게 짝지어졌다는 것은 '(' 문자로 열렸으면 반드시 짝지어서 ')' 문자로 닫혀야 한다는 뜻입니다. 예를 들어\n",
    "\"()()\" 또는 \"(())()\" 는 올바른 괄호입니다.\n",
    "\")()(\" 또는 \"(()(\" 는 올바르지 않은 괄호입니다.\n",
    "'(' 또는 ')' 로만 이루어진 문자열 s가 주어졌을 때, 문자열 s가 올바른 괄호이면 true를 return 하고, 올바르지 않은 괄호이면 false를 return 하는 solution 함수를 완성해 주세요.\n",
    "제한사항\n",
    "문자열 s의 길이 : 100,000 이하의 자연수\n",
    "문자열 s는 '(' 또는 ')' 로만 이루어져 있습니다.\n",
    "입출력 예\n",
    "s\tanswer\n",
    "\"()()\"\ttrue\n",
    "\"(())()\"\ttrue\n",
    "\")()(\"\tfalse\n",
    "\"(()(\"\tfalse\n"
   ]
  },
  {
   "cell_type": "code",
   "execution_count": 1,
   "metadata": {},
   "outputs": [],
   "source": [
    "def solution(s):\n",
    "    answer = True\n",
    "    stack = []\n",
    "    for br in s:\n",
    "        if len(stack)==0:\n",
    "            stack.append(br)\n",
    "            continue\n",
    "        pop = stack.pop()\n",
    "        if pop == \"(\" and br == \")\":\n",
    "            continue\n",
    "        else:\n",
    "            stack.append(pop)\n",
    "            stack.append(br)\n",
    "    \n",
    "    if len(stack) != 0:\n",
    "        answer = False\n",
    "        \n",
    "    return answer"
   ]
  }
 ],
 "metadata": {
  "interpreter": {
   "hash": "b0fa6594d8f4cbf19f97940f81e996739fb7646882a419484c72d19e05852a7e"
  },
  "kernelspec": {
   "display_name": "Python 3.9.12 64-bit",
   "language": "python",
   "name": "python3"
  },
  "language_info": {
   "codemirror_mode": {
    "name": "ipython",
    "version": 3
   },
   "file_extension": ".py",
   "mimetype": "text/x-python",
   "name": "python",
   "nbconvert_exporter": "python",
   "pygments_lexer": "ipython3",
   "version": "3.9.12"
  },
  "orig_nbformat": 4
 },
 "nbformat": 4,
 "nbformat_minor": 2
}
