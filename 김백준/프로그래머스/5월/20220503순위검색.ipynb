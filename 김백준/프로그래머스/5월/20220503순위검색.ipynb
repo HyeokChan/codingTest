{
 "cells": [
  {
   "cell_type": "markdown",
   "metadata": {},
   "source": [
    "순위검색"
   ]
  },
  {
   "cell_type": "markdown",
   "metadata": {},
   "source": [
    "[본 문제는 정확성과 효율성 테스트 각각 점수가 있는 문제입니다.]\n",
    "카카오는 하반기 경력 개발자 공개채용을 진행 중에 있으며 현재 지원서 접수와 코딩테스트가 종료되었습니다. 이번 채용에서 지원자는 지원서 작성 시 아래와 같이 4가지 항목을 반드시 선택하도록 하였습니다.\n",
    "코딩테스트 참여 개발언어 항목에 cpp, java, python 중 하나를 선택해야 합니다.\n",
    "지원 직군 항목에 backend와 frontend 중 하나를 선택해야 합니다.\n",
    "지원 경력구분 항목에 junior와 senior 중 하나를 선택해야 합니다.\n",
    "선호하는 소울푸드로 chicken과 pizza 중 하나를 선택해야 합니다.\n",
    "인재영입팀에 근무하고 있는 니니즈는 코딩테스트 결과를 분석하여 채용에 참여한 개발팀들에 제공하기 위해 지원자들의 지원 조건을 선택하면 해당 조건에 맞는 지원자가 몇 명인 지 쉽게 알 수 있는 도구를 만들고 있습니다.\n",
    "예를 들어, 개발팀에서 궁금해하는 문의사항은 다음과 같은 형태가 될 수 있습니다.\n",
    "코딩테스트에 java로 참여했으며, backend 직군을 선택했고, junior 경력이면서, 소울푸드로 pizza를 선택한 사람 중 코딩테스트 점수를 50점 이상 받은 지원자는 몇 명인가?\n",
    "물론 이 외에도 각 개발팀의 상황에 따라 아래와 같이 다양한 형태의 문의가 있을 수 있습니다.\n",
    "코딩테스트에 python으로 참여했으며, frontend 직군을 선택했고, senior 경력이면서, 소울푸드로 chicken을 선택한 사람 중 코딩테스트 점수를 100점 이상 받은 사람은 모두 몇 명인가?\n",
    "코딩테스트에 cpp로 참여했으며, senior 경력이면서, 소울푸드로 pizza를 선택한 사람 중 코딩테스트 점수를 100점 이상 받은 사람은 모두 몇 명인가?\n",
    "backend 직군을 선택했고, senior 경력이면서 코딩테스트 점수를 200점 이상 받은 사람은 모두 몇 명인가?\n",
    "소울푸드로 chicken을 선택한 사람 중 코딩테스트 점수를 250점 이상 받은 사람은 모두 몇 명인가?\n",
    "코딩테스트 점수를 150점 이상 받은 사람은 모두 몇 명인가?\n",
    "즉, 개발팀에서 궁금해하는 내용은 다음과 같은 형태를 갖습니다.\n",
    "* [조건]을 만족하는 사람 중 코딩테스트 점수를 X점 이상 받은 사람은 모두 몇 명인가?\n",
    "[문제]\n",
    "지원자가 지원서에 입력한 4가지의 정보와 획득한 코딩테스트 점수를 하나의 문자열로 구성한 값의 배열 info, 개발팀이 궁금해하는 문의조건이 문자열 형태로 담긴 배열 query가 매개변수로 주어질 때,\n",
    "각 문의조건에 해당하는 사람들의 숫자를 순서대로 배열에 담아 return 하도록 solution 함수를 완성해 주세요.\n",
    "[제한사항]\n",
    "info 배열의 크기는 1 이상 50,000 이하입니다.\n",
    "info 배열 각 원소의 값은 지원자가 지원서에 입력한 4가지 값과 코딩테스트 점수를 합친 \"개발언어 직군 경력 소울푸드 점수\" 형식입니다.\n",
    "개발언어는 cpp, java, python 중 하나입니다.\n",
    "직군은 backend, frontend 중 하나입니다.\n",
    "경력은 junior, senior 중 하나입니다.\n",
    "소울푸드는 chicken, pizza 중 하나입니다.\n",
    "점수는 코딩테스트 점수를 의미하며, 1 이상 100,000 이하인 자연수입니다.\n",
    "각 단어는 공백문자(스페이스 바) 하나로 구분되어 있습니다.\n",
    "query 배열의 크기는 1 이상 100,000 이하입니다.\n",
    "query의 각 문자열은 \"[조건] X\" 형식입니다.\n",
    "[조건]은 \"개발언어 and 직군 and 경력 and 소울푸드\" 형식의 문자열입니다.\n",
    "언어는 cpp, java, python, - 중 하나입니다.\n",
    "직군은 backend, frontend, - 중 하나입니다.\n",
    "경력은 junior, senior, - 중 하나입니다.\n",
    "소울푸드는 chicken, pizza, - 중 하나입니다.\n",
    "'-' 표시는 해당 조건을 고려하지 않겠다는 의미입니다.\n",
    "X는 코딩테스트 점수를 의미하며 조건을 만족하는 사람 중 X점 이상 받은 사람은 모두 몇 명인 지를 의미합니다.\n",
    "각 단어는 공백문자(스페이스 바) 하나로 구분되어 있습니다.\n",
    "예를 들면, \"cpp and - and senior and pizza 500\"은 \"cpp로 코딩테스트를 봤으며, 경력은 senior 이면서 소울푸드로 pizza를 선택한 지원자 중 코딩테스트 점수를 500점 이상 받은 사람은 모두 몇 명인가?\"를 의미합니다.\n",
    "[입출력 예]\n",
    "info\tquery\tresult\n",
    "[\"java backend junior pizza 150\",\"python frontend senior chicken 210\",\"python frontend senior chicken 150\",\"cpp backend senior pizza 260\",\"java backend junior chicken 80\",\"python backend senior chicken 50\"]\t[\"java and backend and junior and pizza 100\",\"python and frontend and senior and chicken 200\",\"cpp and - and senior and pizza 250\",\"- and backend and senior and - 150\",\"- and - and - and chicken 100\",\"- and - and - and - 150\"]\t[1,1,1,1,2,4]\n",
    "입출력 예에 대한 설명\n",
    "지원자 정보를 표로 나타내면 다음과 같습니다.\n",
    "언어\t직군\t경력\t소울 푸드\t점수\n",
    "java\tbackend\tjunior\tpizza\t150\n",
    "python\tfrontend\tsenior\tchicken\t210\n",
    "python\tfrontend\tsenior\tchicken\t150\n",
    "cpp\tbackend\tsenior\tpizza\t260\n",
    "java\tbackend\tjunior\tchicken\t80\n",
    "python\tbackend\tsenior\tchicken\t50\n",
    "\"java and backend and junior and pizza 100\" : java로 코딩테스트를 봤으며, backend 직군을 선택했고 junior 경력이면서 소울푸드로 pizza를 선택한 지원자 중 코딩테스트 점수를 100점 이상 받은 지원자는 1명 입니다.\n",
    "\"python and frontend and senior and chicken 200\" : python으로 코딩테스트를 봤으며, frontend 직군을 선택했고, senior 경력이면서 소울 푸드로 chicken을 선택한 지원자 중 코딩테스트 점수를 200점 이상 받은 지원자는 1명 입니다.\n",
    "\"cpp and - and senior and pizza 250\" : cpp로 코딩테스트를 봤으며, senior 경력이면서 소울푸드로 pizza를 선택한 지원자 중 코딩테스트 점수를 250점 이상 받은 지원자는 1명 입니다.\n",
    "\"- and backend and senior and - 150\" : backend 직군을 선택했고, senior 경력인 지원자 중 코딩테스트 점수를 150점 이상 받은 지원자는 1명 입니다.\n",
    "\"- and - and - and chicken 100\" : 소울푸드로 chicken을 선택한 지원자 중 코딩테스트 점수를 100점 이상을 받은 지원자는 2명 입니다.\n",
    "\"- and - and - and - 150\" : 코딩테스트 점수를 150점 이상 받은 지원자는 4명 입니다.\n",
    "\n"
   ]
  },
  {
   "cell_type": "code",
   "execution_count": 8,
   "metadata": {},
   "outputs": [
    {
     "name": "stdout",
     "output_type": "stream",
     "text": [
      "[1, 1, 1, 1, 2, 4]\n"
     ]
    }
   ],
   "source": [
    "def solution(info, query):\n",
    "    answer = []\n",
    "    #정보들을 ' '로 스플릿해 배열로 만듦\n",
    "    p_info = []\n",
    "    p_query = []\n",
    "    for i in info:\n",
    "        p = i.split(' ')\n",
    "        p_info.append(p)\n",
    "    #쿼리들을 and -> '', '  ' -> ' ', split(' ')\n",
    "    for q in query:\n",
    "        p = q.replace('and', '').replace('  ',' ').split(' ')\n",
    "        p_query.append(p)\n",
    "\n",
    "    #쿼리마다 정보들을돌면서 찾음\n",
    "    for pq in p_query:\n",
    "        pi_cnt = 0\n",
    "        for pi in p_info:\n",
    "            cnt = 0\n",
    "            for idx in range(len(pq)-1):\n",
    "                if pq[idx] == '-':\n",
    "                    cnt += 1\n",
    "                    continue\n",
    "                if pq[idx] == pi[idx]:\n",
    "                    cnt += 1\n",
    "            if int(pi[len(pi)-1]) >= int(pq[len(pq)-1]):\n",
    "                cnt += 1\n",
    "            if cnt == 5:\n",
    "                pi_cnt += 1\n",
    "        answer.append(pi_cnt)\n",
    "\n",
    "    return answer\n",
    "\n",
    "print(solution([\"java backend junior pizza 150\"\n",
    "                ,\"python frontend senior chicken 210\"\n",
    "                ,\"python frontend senior chicken 150\"\n",
    "                ,\"cpp backend senior pizza 260\"\n",
    "                ,\"java backend junior chicken 80\"\n",
    "                ,\"python backend senior chicken 50\"]\n",
    "               , [\"java and backend and junior and pizza 100\"\n",
    "                ,\"python and frontend and senior and chicken 200\"\n",
    "                ,\"cpp and - and senior and pizza 250\"\n",
    "                ,\"- and backend and senior and - 150\"\n",
    "                ,\"- and - and - and chicken 100\"\n",
    "                ,\"- and - and - and - 150\"]))\n",
    "#[1,1,1,1,2,4]"
   ]
  },
  {
   "cell_type": "markdown",
   "metadata": {},
   "source": [
    "① info 안의 문자열을 공백을 기준으로 분리합니다. ( ex ['java', 'backend', 'junior', 'pizza', '150'] )\n",
    "② 분리한 것 중, 앞의 4부분(java,backend..)을 키값으로, 마지막부분(150)을 value값으로 분리 합니다.\n",
    "③ 키값들로 만들 수 있는 모든 조합을 생성합니다. (combinations 이용)\n",
    "④ 이 조합으로 딕셔너리를 생성합니다. 해당 키값이 딕셔너리에 이미 존재하면 value값을 그 키의 value값에 추가합니다.    { 'javabackendjuniorpizza' : [150...] , 'java' : [100...] , ... } 식으로 생성이 되겠죠?\n",
    "⑤ 딕셔너리의 각 원소마다 value값들을 기준으로 정렬합니다. [100,150,200...]식으로 되도록\n",
    " \n",
    "⑥ query도 마찬가지로 분리합니다. ( query에는 and와 -도 있기 때문에 제거를 하여 info와 같은 형식으로 만듭니다. )\n",
    "⑦ 이제 query를 한바퀴 돌면서, info딕셔너리를 탐방하게 되는데,\n",
    "    query의 key값이 info딕셔너리의 키값으로 존재하면 그 info딕셔너리의 value값들을 가져옵니다.\n",
    "⑧ 가져온 점수값에서 기준 점수값을 넘는 것들의 개수를 이분탐색을 통해 구하면 됩니다."
   ]
  },
  {
   "cell_type": "code",
   "execution_count": 35,
   "metadata": {},
   "outputs": [
    {
     "name": "stdout",
     "output_type": "stream",
     "text": [
      "[1, 1, 1, 1, 2, 4]\n"
     ]
    }
   ],
   "source": [
    "import itertools\n",
    "import heapq\n",
    "def solution(info, query):\n",
    "    answer = []\n",
    "    #정보들을 ' '로 스플릿해 배열로 만듦\n",
    "    p_info = []\n",
    "    p_query = []\n",
    "    p_dict = dict()\n",
    "    for i in info:\n",
    "        p = i.split(' ')\n",
    "        p_info.append(p)\n",
    "    #쿼리들을 and -> '', '  ' -> ' ', split(' ')\n",
    "    for q in query:\n",
    "        p = q.replace('and', '').replace('  ',' ').replace('-','').split(' ')\n",
    "        p_query.append(p)\n",
    "\n",
    "    #정보의 단어들을 콤비네이션으로 조합한 후 해당 점수를 모두 배열에 넣음 -> key로 찾을 것\n",
    "    for pi in p_info:\n",
    "        n_pi = pi[:len(pi)-1]\n",
    "        value = pi[4]\n",
    "        for i in range(5):\n",
    "            it = itertools.combinations(n_pi,i)\n",
    "            for t in it:\n",
    "                tmp = \"\"\n",
    "                for k in t:\n",
    "                    tmp += k\n",
    "                if p_dict.get(tmp) == None:\n",
    "                    p_dict[tmp] = [int(value)]\n",
    "                else:\n",
    "                    p_dict[tmp].append(int(value))\n",
    "    for pd in p_dict.keys():\n",
    "        p_dict[pd].sort()\n",
    "        \n",
    "    \n",
    "    for pq in p_query:\n",
    "        qq = \"\".join(pq[:-1])\n",
    "        vv = pq[-1]\n",
    "        #print(qq, vv)\n",
    "        #print(p_dict[qq])\n",
    "        if qq not in p_dict:\n",
    "            answer.append(0)\n",
    "        else:\n",
    "            vvl = p_dict[qq]\n",
    "            left = binary(vvl, vv)\n",
    "            answer.append(len(vvl)-left)\n",
    "    return answer\n",
    "    \n",
    "def binary(l, num):\n",
    "    begin = 0\n",
    "    end = len(l)-1\n",
    "    while True:\n",
    "        mid = (begin + end) // 2\n",
    "        if l[mid] >= int(num):\n",
    "            end = mid-1\n",
    "        else:\n",
    "            begin = mid + 1\n",
    "        if begin > end:\n",
    "            break\n",
    "    \n",
    "    return begin\n",
    "\n",
    "print(solution([\"java backend junior pizza 150\"\n",
    "                ,\"python frontend senior chicken 210\"\n",
    "                ,\"python frontend senior chicken 150\"\n",
    "                ,\"cpp backend senior pizza 260\"\n",
    "                ,\"java backend junior chicken 80\"\n",
    "                ,\"python backend senior chicken 50\"]\n",
    "               , [\"java and backend and junior and pizza 100\"\n",
    "                ,\"python and frontend and senior and chicken 200\"\n",
    "                ,\"cpp and - and senior and pizza 250\"\n",
    "                ,\"- and backend and senior and - 150\"\n",
    "                ,\"- and - and - and chicken 100\"\n",
    "                ,\"- and - and - and - 150\"]))\n",
    "#[1,1,1,1,2,4]"
   ]
  },
  {
   "cell_type": "code",
   "execution_count": 34,
   "metadata": {},
   "outputs": [
    {
     "name": "stdout",
     "output_type": "stream",
     "text": [
      "None\n"
     ]
    },
    {
     "ename": "NameError",
     "evalue": "name 'l' is not defined",
     "output_type": "error",
     "traceback": [
      "\u001b[0;31m---------------------------------------------------------------------------\u001b[0m",
      "\u001b[0;31mNameError\u001b[0m                                 Traceback (most recent call last)",
      "\u001b[1;32m/Users/kimbaekjoon/Desktop/코딩테스트/프로그래머스/5월/20220503순위검색.ipynb Cell 6'\u001b[0m in \u001b[0;36m<cell line: 4>\u001b[0;34m()\u001b[0m\n\u001b[1;32m      <a href='vscode-notebook-cell:/Users/kimbaekjoon/Desktop/%EC%BD%94%EB%94%A9%ED%85%8C%EC%8A%A4%ED%8A%B8/%ED%94%84%EB%A1%9C%EA%B7%B8%EB%9E%98%EB%A8%B8%EC%8A%A4/5%EC%9B%94/20220503%EC%88%9C%EC%9C%84%EA%B2%80%EC%83%89.ipynb#ch0000005?line=1'>2</a>\u001b[0m \u001b[39mprint\u001b[39m(qwe\u001b[39m.\u001b[39mget(\u001b[39m\"\u001b[39m\u001b[39mf\u001b[39m\u001b[39m\"\u001b[39m))\n\u001b[1;32m      <a href='vscode-notebook-cell:/Users/kimbaekjoon/Desktop/%EC%BD%94%EB%94%A9%ED%85%8C%EC%8A%A4%ED%8A%B8/%ED%94%84%EB%A1%9C%EA%B7%B8%EB%9E%98%EB%A8%B8%EC%8A%A4/5%EC%9B%94/20220503%EC%88%9C%EC%9C%84%EA%B2%80%EC%83%89.ipynb#ch0000005?line=2'>3</a>\u001b[0m lll \u001b[39m=\u001b[39m [\u001b[39m1\u001b[39m,\u001b[39m2\u001b[39m,\u001b[39m3\u001b[39m,\u001b[39m4\u001b[39m]\n\u001b[0;32m----> <a href='vscode-notebook-cell:/Users/kimbaekjoon/Desktop/%EC%BD%94%EB%94%A9%ED%85%8C%EC%8A%A4%ED%8A%B8/%ED%94%84%EB%A1%9C%EA%B7%B8%EB%9E%98%EB%A8%B8%EC%8A%A4/5%EC%9B%94/20220503%EC%88%9C%EC%9C%84%EA%B2%80%EC%83%89.ipynb#ch0000005?line=3'>4</a>\u001b[0m \u001b[39mprint\u001b[39m(l[\u001b[39m5\u001b[39m])\n",
      "\u001b[0;31mNameError\u001b[0m: name 'l' is not defined"
     ]
    }
   ],
   "source": [
    "qwe = {'ddd':6}\n",
    "print(qwe.get(\"f\"))\n",
    "lll = [1,2,3,4]\n",
    "print(l[5])"
   ]
  }
 ],
 "metadata": {
  "interpreter": {
   "hash": "31f2aee4e71d21fbe5cf8b01ff0e069b9275f58929596ceb00d14d90e3e16cd6"
  },
  "kernelspec": {
   "display_name": "Python 3.8.9 64-bit",
   "language": "python",
   "name": "python3"
  },
  "language_info": {
   "codemirror_mode": {
    "name": "ipython",
    "version": 3
   },
   "file_extension": ".py",
   "mimetype": "text/x-python",
   "name": "python",
   "nbconvert_exporter": "python",
   "pygments_lexer": "ipython3",
   "version": "3.8.9"
  },
  "orig_nbformat": 4
 },
 "nbformat": 4,
 "nbformat_minor": 2
}
