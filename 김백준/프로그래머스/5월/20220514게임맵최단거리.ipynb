{
 "cells": [
  {
   "cell_type": "markdown",
   "metadata": {},
   "source": [
    "게임 맵 최단거리"
   ]
  },
  {
   "cell_type": "markdown",
   "metadata": {},
   "source": [
    "ROR 게임은 두 팀으로 나누어서 진행하며, 상대 팀 진영을 먼저 파괴하면 이기는 게임입니다. 따라서, 각 팀은 상대 팀 진영에 최대한 빨리 도착하는 것이 유리합니다.\n",
    "지금부터 당신은 한 팀의 팀원이 되어 게임을 진행하려고 합니다. 다음은 5 x 5 크기의 맵에, 당신의 캐릭터가 (행: 1, 열: 1) 위치에 있고, 상대 팀 진영은 (행: 5, 열: 5) 위치에 있는 경우의 예시입니다.\n",
    "최단거리1_sxuruo.png\n",
    "위 그림에서 검은색 부분은 벽으로 막혀있어 갈 수 없는 길이며, 흰색 부분은 갈 수 있는 길입니다. 캐릭터가 움직일 때는 동, 서, 남, 북 방향으로 한 칸씩 이동하며, 게임 맵을 벗어난 길은 갈 수 없습니다.\n",
    "아래 예시는 캐릭터가 상대 팀 진영으로 가는 두 가지 방법을 나타내고 있습니다.\n",
    "첫 번째 방법은 11개의 칸을 지나서 상대 팀 진영에 도착했습니다.\n",
    "최단거리2_hnjd3b.png\n",
    "두 번째 방법은 15개의 칸을 지나서 상대팀 진영에 도착했습니다.\n",
    "최단거리3_ntxygd.png\n",
    "위 예시에서는 첫 번째 방법보다 더 빠르게 상대팀 진영에 도착하는 방법은 없으므로, 이 방법이 상대 팀 진영으로 가는 가장 빠른 방법입니다.\n",
    "만약, 상대 팀이 자신의 팀 진영 주위에 벽을 세워두었다면 상대 팀 진영에 도착하지 못할 수도 있습니다. 예를 들어, 다음과 같은 경우에 당신의 캐릭터는 상대 팀 진영에 도착할 수 없습니다.\n",
    "최단거리4_of9xfg.png\n",
    "게임 맵의 상태 maps가 매개변수로 주어질 때, 캐릭터가 상대 팀 진영에 도착하기 위해서 지나가야 하는 칸의 개수의 최솟값을 return 하도록 solution 함수를 완성해주세요. 단, 상대 팀 진영에 도착할 수 없을 때는 -1을 return 해주세요.\n",
    "제한사항\n",
    "maps는 n x m 크기의 게임 맵의 상태가 들어있는 2차원 배열로, n과 m은 각각 1 이상 100 이하의 자연수입니다.\n",
    "n과 m은 서로 같을 수도, 다를 수도 있지만, n과 m이 모두 1인 경우는 입력으로 주어지지 않습니다.\n",
    "maps는 0과 1로만 이루어져 있으며, 0은 벽이 있는 자리, 1은 벽이 없는 자리를 나타냅니다.\n",
    "처음에 캐릭터는 게임 맵의 좌측 상단인 (1, 1) 위치에 있으며, 상대방 진영은 게임 맵의 우측 하단인 (n, m) 위치에 있습니다.\n",
    "입출력 예\n",
    "maps\tanswer\n",
    "[[1,0,1,1,1],[1,0,1,0,1],[1,0,1,1,1],[1,1,1,0,1],[0,0,0,0,1]]\t11\n",
    "[[1,0,1,1,1],[1,0,1,0,1],[1,0,1,1,1],[1,1,1,0,0],[0,0,0,0,1]]\t-1\n",
    "입출력 예 설명\n",
    "입출력 예 #1\n",
    "주어진 데이터는 다음과 같습니다.\n",
    "최단거리6_lgjvrb.png\n",
    "캐릭터가 적 팀의 진영까지 이동하는 가장 빠른 길은 다음 그림과 같습니다.\n",
    "최단거리2_hnjd3b (1).png\n",
    "따라서 총 11칸을 캐릭터가 지나갔으므로 11을 return 하면 됩니다.\n",
    "입출력 예 #2\n",
    "문제의 예시와 같으며, 상대 팀 진영에 도달할 방법이 없습니다. 따라서 -1을 return 합니다."
   ]
  },
  {
   "cell_type": "code",
   "execution_count": 2,
   "metadata": {},
   "outputs": [],
   "source": [
    "from collections import deque\n",
    "\n",
    "def solution(maps):\n",
    "    answer = 0\n",
    "    dp_m = [] #최단거리를 나타낼 맵\n",
    "    queue = deque([]) #bfs를 구현할 큐\n",
    "    n = len(maps)\n",
    "    m = len(maps[0])\n",
    "    for r in range(len(maps)): #dp_m의 값을 모두 99999로 초기화\n",
    "        row = []\n",
    "        for c in range(len(maps[0])):\n",
    "            row.append(99999)\n",
    "        dp_m.append(row)\n",
    "    dp_m[0][0] = 1\n",
    "    queue.append((0,0))\n",
    "    while len(queue) > 0:\n",
    "        q = queue.popleft()\n",
    "        x=q[0];y=q[1]\n",
    "        maps[x][y] = 0\n",
    "        d = dp_m[x][y]\n",
    "        #상\n",
    "        if x > 0 and maps[x-1][y] != 0:\n",
    "            if dp_m[x-1][y] == 99999:\n",
    "                dp_m[x-1][y] = min(dp_m[x-1][y], d + 1)\n",
    "                queue.append((x-1,y))\n",
    "        #하\n",
    "        if x < len(maps) - 1 and maps[x+1][y] != 0:\n",
    "            if dp_m[x+1][y] == 99999:\n",
    "                dp_m[x+1][y] = min(dp_m[x+1][y], d + 1)\n",
    "                queue.append((x+1,y))\n",
    "        #좌\n",
    "        if y > 0 and maps[x][y-1] != 0:\n",
    "            if dp_m[x][y-1] == 99999:\n",
    "                dp_m[x][y-1] = min(dp_m[x][y-1], d + 1)\n",
    "                queue.append((x,y-1))\n",
    "        #우\n",
    "        if y < len(maps[0]) - 1 and maps[x][y+1] != 0:\n",
    "            if dp_m[x][y+1] == 99999:\n",
    "                dp_m[x][y+1] = min(dp_m[x][y+1], d + 1)\n",
    "                queue.append((x,y+1))\n",
    "    \n",
    "    if dp_m[n-1][m-1] == 99999:\n",
    "        return -1\n",
    "    else:\n",
    "        answer = dp_m[n-1][m-1]\n",
    "\n",
    "    return answer"
   ]
  },
  {
   "cell_type": "code",
   "execution_count": 1,
   "metadata": {},
   "outputs": [
    {
     "name": "stdout",
     "output_type": "stream",
     "text": [
      "a\n"
     ]
    }
   ],
   "source": [
    "print(\"a\")"
   ]
  }
 ],
 "metadata": {
  "interpreter": {
   "hash": "b0fa6594d8f4cbf19f97940f81e996739fb7646882a419484c72d19e05852a7e"
  },
  "kernelspec": {
   "display_name": "Python 3.9.12 64-bit",
   "language": "python",
   "name": "python3"
  },
  "language_info": {
   "codemirror_mode": {
    "name": "ipython",
    "version": 3
   },
   "file_extension": ".py",
   "mimetype": "text/x-python",
   "name": "python",
   "nbconvert_exporter": "python",
   "pygments_lexer": "ipython3",
   "version": "3.9.12"
  },
  "orig_nbformat": 4
 },
 "nbformat": 4,
 "nbformat_minor": 2
}
