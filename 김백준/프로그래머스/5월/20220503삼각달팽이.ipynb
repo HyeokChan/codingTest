{
 "cells": [
  {
   "cell_type": "markdown",
   "metadata": {},
   "source": [
    "삼각달팽이"
   ]
  },
  {
   "cell_type": "markdown",
   "metadata": {},
   "source": [
    "정수 n이 매개변수로 주어집니다. 다음 그림과 같이 밑변의 길이와 높이가 n인 삼각형에서 맨 위 꼭짓점부터 반시계 방향으로 달팽이 채우기를 진행한 후, 첫 행부터 마지막 행까지 모두 순서대로 합친 새로운 배열을 return 하도록 solution 함수를 완성해주세요.\n",
    "examples.png\n",
    "제한사항\n",
    "n은 1 이상 1,000 이하입니다.\n",
    "입출력 예\n",
    "n\tresult\n",
    "4\t[1,2,9,3,10,8,4,5,6,7]\n",
    "5\t[1,2,12,3,13,11,4,14,15,10,5,6,7,8,9]\n",
    "6\t[1,2,15,3,16,14,4,17,21,13,5,18,19,20,12,6,7,8,9,10,11]\n",
    "입출력 예 설명\n",
    "입출력 예 #1\n",
    "문제 예시와 같습니다.\n",
    "입출력 예 #2\n",
    "문제 예시와 같습니다.\n",
    "입출력 예 #3\n",
    "문제 예시와 같습니다."
   ]
  },
  {
   "cell_type": "code",
   "execution_count": 28,
   "metadata": {},
   "outputs": [
    {
     "name": "stdout",
     "output_type": "stream",
     "text": [
      "[1, 2, 15, 3, 16, 14, 4, 17, 21, 13, 5, 18, 19, 20, 12, 6, 7, 8, 9, 10, 11]\n"
     ]
    }
   ],
   "source": [
    "def solution(n):\n",
    "    answer = []\n",
    "    num = 1\n",
    "    house = []\n",
    "    for i in range(n):\n",
    "        house.append([0 for x in range(i+1)])\n",
    "    for z in range(n):\n",
    "        mok = z // 3\n",
    "        nam = z % 3\n",
    "        if nam == 0:\n",
    "            for r in range(n-(3*mok)):\n",
    "                house[2*mok + r][mok] = num\n",
    "                num += 1\n",
    "        elif nam == 1:\n",
    "            for r in range(n-(3*mok)-1):\n",
    "                house[n-1-mok][mok+r+1] = num\n",
    "                num += 1\n",
    "        elif nam == 2:\n",
    "            for r in range(n-(3*mok)-2):\n",
    "                #print(n-2, mok, r)\n",
    "                house[n-2-mok-r][n-2-2*mok-r] = num\n",
    "                num += 1\n",
    "        #print(house)\n",
    "    #print(house)\n",
    "    for h in house:\n",
    "        answer.extend(h)\n",
    "\n",
    "    return answer\n",
    "\n",
    "print(solution(6))\n"
   ]
  }
 ],
 "metadata": {
  "interpreter": {
   "hash": "31f2aee4e71d21fbe5cf8b01ff0e069b9275f58929596ceb00d14d90e3e16cd6"
  },
  "kernelspec": {
   "display_name": "Python 3.8.9 64-bit",
   "language": "python",
   "name": "python3"
  },
  "language_info": {
   "codemirror_mode": {
    "name": "ipython",
    "version": 3
   },
   "file_extension": ".py",
   "mimetype": "text/x-python",
   "name": "python",
   "nbconvert_exporter": "python",
   "pygments_lexer": "ipython3",
   "version": "3.8.9"
  },
  "orig_nbformat": 4
 },
 "nbformat": 4,
 "nbformat_minor": 2
}
