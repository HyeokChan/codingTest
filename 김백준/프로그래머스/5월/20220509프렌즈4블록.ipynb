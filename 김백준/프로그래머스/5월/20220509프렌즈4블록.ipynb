{
 "cells": [
  {
   "cell_type": "markdown",
   "metadata": {},
   "source": [
    "프렌즈4블록"
   ]
  },
  {
   "cell_type": "markdown",
   "metadata": {},
   "source": [
    "블라인드 공채를 통과한 신입 사원 라이언은 신규 게임 개발 업무를 맡게 되었다. 이번에 출시할 게임 제목은 \"프렌즈4블록\".\n",
    "같은 모양의 카카오프렌즈 블록이 2\u0014×2 형태로 4개가 붙어있을 경우 사라지면서 점수를 얻는 게임이다.\n",
    "board map\n",
    "만약 판이 위와 같이 주어질 경우, 라이언이 2×2로 배치된 7개 블록과 콘이 2×2로 배치된 4개 블록이 지워진다. 같은 블록은 여러 2×2에 포함될 수 있으며, 지워지는 조건에 만족하는 2×2 모양이 여러 개 있다면 한꺼번에 지워진다.\n",
    "board map\n",
    "블록이 지워진 후에 위에 있는 블록이 아래로 떨어져 빈 공간을 채우게 된다.\n",
    "board map\n",
    "만약 빈 공간을 채운 후에 다시 2×2 형태로 같은 모양의 블록이 모이면 다시 지워지고 떨어지고를 반복하게 된다.\n",
    "board map\n",
    "위 초기 배치를 문자로 표시하면 아래와 같다.\n",
    "TTTANT\n",
    "RRFACC\n",
    "RRRFCC\n",
    "TRRRAA\n",
    "TTMMMF\n",
    "TMMTTJ\n",
    "각 문자는 라이언(R), 무지(M), 어피치(A), 프로도(F), 네오(N), 튜브(T), 제이지(J), 콘(C)을 의미한다\n",
    "입력으로 블록의 첫 배치가 주어졌을 때, 지워지는 블록은 모두 몇 개인지 판단하는 프로그램을 제작하라.\n",
    "입력 형식\n",
    "입력으로 판의 높이 m, 폭 n과 판의 배치 정보 board가 들어온다.\n",
    "2 ≦ n, m ≦ 30\n",
    "board는 길이 n인 문자열 m개의 배열로 주어진다. 블록을 나타내는 문자는 대문자 A에서 Z가 사용된다.\n",
    "출력 형식\n",
    "입력으로 주어진 판 정보를 가지고 몇 개의 블록이 지워질지 출력하라.\n",
    "입출력 예제\n",
    "m\tn\tboard\tanswer\n",
    "4\t5\t[\"CCBDE\", \"AAADE\", \"AAABF\", \"CCBBF\"]\t14\n",
    "6\t6\t[\"TTTANT\", \"RRFACC\", \"RRRFCC\", \"TRRRAA\", \"TTMMMF\", \"TMMTTJ\"]\t15\n",
    "예제에 대한 설명\n",
    "입출력 예제 1의 경우, 첫 번째에는 A 블록 6개가 지워지고, 두 번째에는 B 블록 4개와 C 블록 4개가 지워져, 모두 14개의 블록이 지워진다.\n",
    "입출력 예제 2는 본문 설명에 있는 그림을 옮긴 것이다. 11개와 4개의 블록이 차례로 지워지며, 모두 15개의 블록이 지워진다."
   ]
  },
  {
   "cell_type": "code",
   "execution_count": 50,
   "metadata": {},
   "outputs": [
    {
     "name": "stdout",
     "output_type": "stream",
     "text": [
      "14\n"
     ]
    }
   ],
   "source": [
    "def solution(m, n, board):\n",
    "    answer = 0\n",
    "    #가로세로를 변경해 m의 길이를 가진 n개의 행렬을 가진 m*n 행렬로 만든다\n",
    "    n_b = [[0 for mm in range(m)] for nn in range(n)]\n",
    "    for ns in range(n):\n",
    "        for ms in range(m):\n",
    "            n_b[ns][ms] = board[m-1-ms][ns]\n",
    "\n",
    "    row = n\n",
    "    col = m\n",
    "    #(0,0) ~ (row-2,col-2)까지 돌면서 주변의 4방 (우, 하, 우하)인 부분을 찾아 지울 set에 넣는다. set는 반복을 허용하지 않는다.\n",
    "    #삭제되는 블럭의 수는 한 바퀴마다 count로 센다. count가 0이면 루프를 끝낸다.\n",
    "    #set에 있는 블럭들을 삭제한다. 2차 배열에 pop을해 배열을 재배치한다.\n",
    "    while True:\n",
    "        count = 0\n",
    "        s = set()\n",
    "        for r in range(row-1):\n",
    "            empty = False # \n",
    "            for c in range(len(n_b[r])-1):\n",
    "                cnt = 0\n",
    "                kf = n_b[r][c] # 카카오프렌즈\n",
    "                #우 하 우하 모두 존재하는지 확인\n",
    "                possible = 0\n",
    "                if len(n_b) > r+1 and len(n_b[r+1]) > c: #하 확인\n",
    "                    possible += 1\n",
    "                else:\n",
    "                    break\n",
    "                if len(n_b[r]) > c+1: # 우 확인\n",
    "                    possible += 1\n",
    "                else:\n",
    "                    break #우가 없으면 밑으로 내려감\n",
    "                if len(n_b) > r+1 and len(n_b[r+1]) > c+1: #우하 확인\n",
    "                    possible += 1\n",
    "                if possible == 3:\n",
    "                    if kf == n_b[r][c+1]:#우\n",
    "                        cnt += 1\n",
    "                    if kf == n_b[r+1][c]:#하\n",
    "                        cnt += 1\n",
    "                    if kf == n_b[r+1][c+1]:#우하\n",
    "                        cnt += 1\n",
    "                else:\n",
    "                    continue\n",
    "                if cnt == 3: #삭제가능\n",
    "                    #뒤에서부터 pop 하기 위해 (r,c) -> (-c,-r)\n",
    "                    s.add((-c,-r));s.add((-c-1,-r));s.add((-c,-r-1));s.add((-c-1,-r-1))\n",
    "                    count += 1\n",
    "        #한바퀴 돔\n",
    "        for i in sorted(s):\n",
    "            n_b[-i[1]].pop(-i[0])\n",
    "        m_len = 0\n",
    "        answer += len(s)\n",
    "        row = len(n_b)\n",
    "        if count == 0:\n",
    "            break\n",
    "    return answer\n",
    "\n",
    "print(solution(4,5,[\"CCBDE\", \"AAADE\", \"AAABF\", \"CCBBF\"]))\n",
    "#14\n"
   ]
  },
  {
   "cell_type": "code",
   "execution_count": 38,
   "metadata": {},
   "outputs": [
    {
     "name": "stdout",
     "output_type": "stream",
     "text": [
      "[[0, 1, 2], [], [2, 3, 4]]\n",
      "[[0, 1, 2], [2, 3, 4]]\n"
     ]
    }
   ],
   "source": [
    "nnn = [[0,1,2],[1,2,3],[2,3,4]]\n",
    "nnn[1].pop(0)\n",
    "nnn[1].pop(0)\n",
    "nnn[1].pop(0)\n",
    "print(nnn)\n",
    "nnn.pop(1)\n",
    "print(nnn)"
   ]
  },
  {
   "cell_type": "code",
   "execution_count": 48,
   "metadata": {},
   "outputs": [
    {
     "name": "stdout",
     "output_type": "stream",
     "text": [
      "0\n"
     ]
    }
   ],
   "source": [
    "for r in range(0,1):\n",
    "    print(r)"
   ]
  }
 ],
 "metadata": {
  "interpreter": {
   "hash": "b0fa6594d8f4cbf19f97940f81e996739fb7646882a419484c72d19e05852a7e"
  },
  "kernelspec": {
   "display_name": "Python 3.9.12 64-bit",
   "language": "python",
   "name": "python3"
  },
  "language_info": {
   "codemirror_mode": {
    "name": "ipython",
    "version": 3
   },
   "file_extension": ".py",
   "mimetype": "text/x-python",
   "name": "python",
   "nbconvert_exporter": "python",
   "pygments_lexer": "ipython3",
   "version": "3.9.12"
  },
  "orig_nbformat": 4
 },
 "nbformat": 4,
 "nbformat_minor": 2
}
