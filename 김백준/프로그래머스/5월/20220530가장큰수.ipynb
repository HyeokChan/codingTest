{
 "cells": [
  {
   "cell_type": "markdown",
   "metadata": {},
   "source": [
    "가장 큰 수"
   ]
  },
  {
   "cell_type": "markdown",
   "metadata": {},
   "source": [
    "0 또는 양의 정수가 주어졌을 때, 정수를 이어 붙여 만들 수 있는 가장 큰 수를 알아내 주세요.\n",
    "예를 들어, 주어진 정수가 [6, 10, 2]라면 [6102, 6210, 1062, 1026, 2610, 2106]를 만들 수 있고, 이중 가장 큰 수는 6210입니다.\n",
    "0 또는 양의 정수가 담긴 배열 numbers가 매개변수로 주어질 때, 순서를 재배치하여 만들 수 있는 가장 큰 수를 문자열로 바꾸어 return 하도록 solution 함수를 작성해주세요.\n",
    "제한 사항\n",
    "numbers의 길이는 1 이상 100,000 이하입니다.\n",
    "numbers의 원소는 0 이상 1,000 이하입니다.\n",
    "정답이 너무 클 수 있으니 문자열로 바꾸어 return 합니다.\n",
    "입출력 예\n",
    "numbers\treturn\n",
    "[6, 10, 2]\t\"6210\"\n",
    "[3, 30, 34, 5, 9]\t\"9534330\"\n",
    "\n",
    "모든 원소를 같은 길이로 맞춘다.\n",
    "각 원소는 맨 마지막 숫자로 이어붙인다.\n",
    "--> 1000, 100 같으면 1001000 이 먼저 나와야 한다.\n",
    "\n",
    "==>\n"
   ]
  },
  {
   "cell_type": "code",
   "execution_count": 1,
   "metadata": {},
   "outputs": [
    {
     "name": "stdout",
     "output_type": "stream",
     "text": [
      "2323210110\n"
     ]
    }
   ],
   "source": [
    "import heapq\n",
    "\n",
    "def solution(numbers):\n",
    "    answer = ''\n",
    "\n",
    "    length = 0\n",
    "    n_nums = []\n",
    "    heap = []\n",
    "    for n in numbers:\n",
    "        length = max(length, len(str(n)))\n",
    "        n_nums.append(str(n))\n",
    "\n",
    "    for n in n_nums:\n",
    "        l = len(n)\n",
    "        num = n\n",
    "        left = length - l\n",
    "        last = n[-1]\n",
    "        for i in range(left):\n",
    "            n += last\n",
    "        heapq.heappush(heap,(-int(n), num))\n",
    "    \n",
    "    while len(heap) > 0:\n",
    "        w = heapq.heappop(heap)\n",
    "        answer += w[1]\n",
    "    answer = str(int(answer))\n",
    "\n",
    "    return answer\n",
    "\n",
    "print(solution([101, 10, 232, 23]))\n",
    "\n"
   ]
  },
  {
   "cell_type": "code",
   "execution_count": 3,
   "metadata": {},
   "outputs": [],
   "source": [
    "def solution(numbers):\n",
    "    answer = ''\n",
    "\n",
    "    nums = sorting(numbers)\n",
    "\n",
    "    for n in nums:\n",
    "        answer += str(n)\n",
    "    \n",
    "    answer = str(int(answer))\n",
    "\n",
    "    return answer\n",
    "\n",
    "def sorting(nums):\n",
    "    if len(nums) <= 1:\n",
    "        return nums\n",
    "    pivot = nums[len(nums)//2]\n",
    "    l_nums, e_nums, g_nums = [], [], []\n",
    "    for num in nums:\n",
    "        pn = str(pivot) + str(num)\n",
    "        np = str(num) + str(pivot)\n",
    "        if pn > np:\n",
    "            l_nums.append(num)\n",
    "        elif pn < np:\n",
    "            g_nums.append(num)\n",
    "        else:\n",
    "            e_nums.append(num)\n",
    "    \n",
    "    return sorting(l_nums) + e_nums + sorting(g_nums)\n",
    "\n",
    "    \n",
    "            "
   ]
  },
  {
   "cell_type": "code",
   "execution_count": 9,
   "metadata": {},
   "outputs": [
    {
     "name": "stdout",
     "output_type": "stream",
     "text": [
      "0\n",
      "1\n",
      "2\n",
      "3\n",
      "4\n",
      "5\n",
      "6\n",
      "7\n",
      "8\n",
      "9\n"
     ]
    }
   ],
   "source": [
    "#타인풀이\n",
    "#3자리수까지만 비교하면 돼서 길이를 3배로 늘림\n",
    "def solution(numbers):\n",
    "    numbers = list(map(str, numbers))\n",
    "    numbers.sort(key=lambda x: x*3, reverse=True)\n",
    "    return str(int(''.join(numbers)))"
   ]
  }
 ],
 "metadata": {
  "interpreter": {
   "hash": "31f2aee4e71d21fbe5cf8b01ff0e069b9275f58929596ceb00d14d90e3e16cd6"
  },
  "kernelspec": {
   "display_name": "Python 3.8.9 64-bit",
   "language": "python",
   "name": "python3"
  },
  "language_info": {
   "codemirror_mode": {
    "name": "ipython",
    "version": 3
   },
   "file_extension": ".py",
   "mimetype": "text/x-python",
   "name": "python",
   "nbconvert_exporter": "python",
   "pygments_lexer": "ipython3",
   "version": "3.8.9"
  },
  "orig_nbformat": 4
 },
 "nbformat": 4,
 "nbformat_minor": 2
}
