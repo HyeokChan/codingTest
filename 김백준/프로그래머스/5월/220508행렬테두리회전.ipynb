{
 "cells": [
  {
   "cell_type": "markdown",
   "metadata": {},
   "source": [
    "행렬테두리 회전하기"
   ]
  },
  {
   "cell_type": "markdown",
   "metadata": {},
   "source": [
    "rows x columns 크기인 행렬이 있습니다. 행렬에는 1부터 rows x columns까지의 숫자가 한 줄씩 순서대로 적혀있습니다. 이 행렬에서 직사각형 모양의 범위를 여러 번 선택해, 테두리 부분에 있는 숫자들을 시계방향으로 회전시키려 합니다. 각 회전은 (x1, y1, x2, y2)인 정수 4개로 표현하며, 그 의미는 다음과 같습니다.\n",
    "x1 행 y1 열부터 x2 행 y2 열까지의 영역에 해당하는 직사각형에서 테두리에 있는 숫자들을 한 칸씩 시계방향으로 회전합니다.\n",
    "다음은 6 x 6 크기 행렬의 예시입니다.\n",
    "grid_example.png\n",
    "이 행렬에 (2, 2, 5, 4) 회전을 적용하면, 아래 그림과 같이 2행 2열부터 5행 4열까지 영역의 테두리가 시계방향으로 회전합니다. 이때, 중앙의 15와 21이 있는 영역은 회전하지 않는 것을 주의하세요.\n",
    "rotation_example.png\n",
    "행렬의 세로 길이(행 개수) rows, 가로 길이(열 개수) columns, 그리고 회전들의 목록 queries가 주어질 때, 각 회전들을 배열에 적용한 뒤, 그 회전에 의해 위치가 바뀐 숫자들 중 가장 작은 숫자들을 순서대로 배열에 담아 return 하도록 solution 함수를 완성해주세요.\n",
    "제한사항\n",
    "rows는 2 이상 100 이하인 자연수입니다.\n",
    "columns는 2 이상 100 이하인 자연수입니다.\n",
    "처음에 행렬에는 가로 방향으로 숫자가 1부터 하나씩 증가하면서 적혀있습니다.\n",
    "즉, 아무 회전도 하지 않았을 때, i 행 j 열에 있는 숫자는 ((i-1) x columns + j)입니다.\n",
    "queries의 행의 개수(회전의 개수)는 1 이상 10,000 이하입니다.\n",
    "queries의 각 행은 4개의 정수 [x1, y1, x2, y2]입니다.\n",
    "x1 행 y1 열부터 x2 행 y2 열까지 영역의 테두리를 시계방향으로 회전한다는 뜻입니다.\n",
    "1 ≤ x1 < x2 ≤ rows, 1 ≤ y1 < y2 ≤ columns입니다.\n",
    "모든 회전은 순서대로 이루어집니다.\n",
    "예를 들어, 두 번째 회전에 대한 답은 첫 번째 회전을 실행한 다음, 그 상태에서 두 번째 회전을 실행했을 때 이동한 숫자 중 최솟값을 구하면 됩니다.\n",
    "입출력 예시\n",
    "rows\tcolumns\tqueries\tresult\n",
    "6\t6\t[[2,2,5,4],[3,3,6,6],[5,1,6,3]]\t[8, 10, 25]\n",
    "3\t3\t[[1,1,2,2],[1,2,2,3],[2,1,3,2],[2,2,3,3]]\t[1, 1, 5, 3]\n",
    "100\t97\t[[1,1,100,97]]\t[1]\n",
    "입출력 예 설명\n",
    "입출력 예 #1\n",
    "회전을 수행하는 과정을 그림으로 표현하면 다음과 같습니다.\n",
    "example1.png\n",
    "입출력 예 #2\n",
    "회전을 수행하는 과정을 그림으로 표현하면 다음과 같습니다.\n",
    "example2.png\n",
    "입출력 예 #3\n",
    "이 예시에서는 행렬의 테두리에 위치한 모든 칸들이 움직입니다. 따라서, 행렬의 테두리에 있는 수 중 가장 작은 숫자인 1이 바로 답이 됩니다."
   ]
  },
  {
   "cell_type": "code",
   "execution_count": 12,
   "metadata": {},
   "outputs": [
    {
     "name": "stdout",
     "output_type": "stream",
     "text": [
      "[8, 10, 25]\n"
     ]
    }
   ],
   "source": [
    "def solution(rows, columns, queries):\n",
    "    answer = []\n",
    "    #행렬만들기\n",
    "    mat = [[0 for c in range(columns)] for r in range(rows)]\n",
    "    in_num = 1\n",
    "    for r in range(rows):\n",
    "        for c in range(columns):\n",
    "            mat[r][c] = in_num\n",
    "            in_num += 1\n",
    "    for query in queries:\n",
    "        #초기화\n",
    "        x1 = query[0];y1 = query[1];x2 = query[2];y2 = query[3]\n",
    "        first_num = mat[x1-1][y1-1]\n",
    "        min_num = first_num\n",
    "        #(x1,y1) ~ (x2,y1) 아래로\n",
    "        for r in range(x1,x2):\n",
    "            mat[r-1][y1-1] = mat[r][y1-1]\n",
    "            min_num = min(min_num, mat[r-1][y1-1])\n",
    "        #(x2,y1) ~ (x2,y2) 오른쪽으로\n",
    "        for r in range(y1,y2):\n",
    "            mat[x2-1][r-1] = mat[x2-1][r]\n",
    "            min_num = min(min_num, mat[x2-1][r-1])\n",
    "        #(x2,y2) ~ (x1,y2) 위로\n",
    "        for r in range(x2-1,x1-1,-1):\n",
    "            mat[r][y2-1] = mat[r-1][y2-1]\n",
    "            min_num = min(min_num, mat[r][y2-1])\n",
    "        #(x1,y2) ~ (x1,y1) 왼쪽으로\n",
    "        for r in range(y2-1,y1-1,-1):\n",
    "            mat[x1-1][r] = mat[x1-1][r-1]\n",
    "            min_num = min(min_num, mat[x1-1][r])\n",
    "        #first_num 재배치\n",
    "        mat[x1-1][y1] = first_num\n",
    "        answer.append(min_num)\n",
    "\n",
    "    return answer\n",
    "\n",
    "print(solution(6,6,[[2,2,5,4],[3,3,6,6],[5,1,6,3]]))\n",
    "# [8,10,25]"
   ]
  },
  {
   "cell_type": "code",
   "execution_count": 5,
   "metadata": {},
   "outputs": [
    {
     "name": "stdout",
     "output_type": "stream",
     "text": [
      "3\n",
      "2\n",
      "1\n"
     ]
    }
   ],
   "source": [
    "for r in range(3,0,-1):\n",
    "    print(r)"
   ]
  }
 ],
 "metadata": {
  "interpreter": {
   "hash": "b0fa6594d8f4cbf19f97940f81e996739fb7646882a419484c72d19e05852a7e"
  },
  "kernelspec": {
   "display_name": "Python 3.9.12 64-bit",
   "language": "python",
   "name": "python3"
  },
  "language_info": {
   "codemirror_mode": {
    "name": "ipython",
    "version": 3
   },
   "file_extension": ".py",
   "mimetype": "text/x-python",
   "name": "python",
   "nbconvert_exporter": "python",
   "pygments_lexer": "ipython3",
   "version": "3.9.12"
  },
  "orig_nbformat": 4
 },
 "nbformat": 4,
 "nbformat_minor": 2
}
