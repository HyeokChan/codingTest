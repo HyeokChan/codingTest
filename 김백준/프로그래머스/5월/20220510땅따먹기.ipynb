{
 "cells": [
  {
   "cell_type": "markdown",
   "metadata": {},
   "source": [
    "땅따먹기"
   ]
  },
  {
   "cell_type": "markdown",
   "metadata": {},
   "source": [
    "땅따먹기 게임을 하려고 합니다. 땅따먹기 게임의 땅(land)은 총 N행 4열로 이루어져 있고, 모든 칸에는 점수가 쓰여 있습니다. 1행부터 땅을 밟으며 한 행씩 내려올 때, 각 행의 4칸 중 한 칸만 밟으면서 내려와야 합니다. 단, 땅따먹기 게임에는 한 행씩 내려올 때, 같은 열을 연속해서 밟을 수 없는 특수 규칙이 있습니다.\n",
    "예를 들면,\n",
    "| 1 | 2 | 3 | 5 |\n",
    "| 5 | 6 | 7 | 8 |\n",
    "| 4 | 3 | 2 | 1 |\n",
    "로 땅이 주어졌다면, 1행에서 네번째 칸 (5)를 밟았으면, 2행의 네번째 칸 (8)은 밟을 수 없습니다.\n",
    "마지막 행까지 모두 내려왔을 때, 얻을 수 있는 점수의 최대값을 return하는 solution 함수를 완성해 주세요. 위 예의 경우, 1행의 네번째 칸 (5), 2행의 세번째 칸 (7), 3행의 첫번째 칸 (4) 땅을 밟아 16점이 최고점이 되므로 16을 return 하면 됩니다.\n",
    "제한사항\n",
    "행의 개수 N : 100,000 이하의 자연수\n",
    "열의 개수는 4개이고, 땅(land)은 2차원 배열로 주어집니다.\n",
    "점수 : 100 이하의 자연수\n",
    "입출력 예\n",
    "land\tanswer\n",
    "[[1,2,3,5],[5,6,7,8],[4,3,2,1]]\t16\n",
    "입출력 예 설명\n",
    "입출력 예 #1\n",
    "문제의 예시와 같습니다."
   ]
  },
  {
   "cell_type": "code",
   "execution_count": 3,
   "metadata": {},
   "outputs": [
    {
     "name": "stdout",
     "output_type": "stream",
     "text": [
      "16\n"
     ]
    }
   ],
   "source": [
    "def solution(land):\n",
    "    answer = 0\n",
    "    m = [[0 for c in range(4)] for r in range(len(land))] # m행 n열을 밟을 때 까지의 최댓값을 적는 배열\n",
    "    #먼저 1열을 구함\n",
    "    for col in range(4):\n",
    "        m[0][col] = land[0][col]\n",
    "\n",
    "    for r in range(1, len(land)):\n",
    "        for c in range(4):\n",
    "            #각각 밟았던 곳을 제외한 세 곳의 최댓값을 구한다.\n",
    "            max_sum = 0\n",
    "            for f in range(4):\n",
    "                if c == f:\n",
    "                    continue\n",
    "                max_sum = max(max_sum,m[r-1][f])\n",
    "            m[r][c] = land[r][c] + max_sum\n",
    "    \n",
    "    m_score = 0\n",
    "    for f in range(4):\n",
    "        m_score = max(m_score, m[len(land)-1][f])\n",
    "    answer = m_score\n",
    "\n",
    "    return answer\n",
    "\n",
    "print(solution([[1,2,3,5],[5,6,7,8],[4,3,2,1]]))\n",
    "#16"
   ]
  }
 ],
 "metadata": {
  "interpreter": {
   "hash": "b0fa6594d8f4cbf19f97940f81e996739fb7646882a419484c72d19e05852a7e"
  },
  "kernelspec": {
   "display_name": "Python 3.9.12 64-bit",
   "language": "python",
   "name": "python3"
  },
  "language_info": {
   "codemirror_mode": {
    "name": "ipython",
    "version": 3
   },
   "file_extension": ".py",
   "mimetype": "text/x-python",
   "name": "python",
   "nbconvert_exporter": "python",
   "pygments_lexer": "ipython3",
   "version": "3.9.12"
  },
  "orig_nbformat": 4
 },
 "nbformat": 4,
 "nbformat_minor": 2
}
