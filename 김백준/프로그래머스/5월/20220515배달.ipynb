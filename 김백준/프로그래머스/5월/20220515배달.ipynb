{
 "cells": [
  {
   "cell_type": "markdown",
   "metadata": {},
   "source": [
    "배달"
   ]
  },
  {
   "cell_type": "markdown",
   "metadata": {},
   "source": [
    "N개의 마을로 이루어진 나라가 있습니다. 이 나라의 각 마을에는 1부터 N까지의 번호가 각각 하나씩 부여되어 있습니다. 각 마을은 양방향으로 통행할 수 있는 도로로 연결되어 있는데, 서로 다른 마을 간에 이동할 때는 이 도로를 지나야 합니다. 도로를 지날 때 걸리는 시간은 도로별로 다릅니다. 현재 1번 마을에 있는 음식점에서 각 마을로 음식 배달을 하려고 합니다. 각 마을로부터 음식 주문을 받으려고 하는데, N개의 마을 중에서 K 시간 이하로 배달이 가능한 마을에서만 주문을 받으려고 합니다. 다음은 N = 5, K = 3인 경우의 예시입니다.\n",
    "배달_1_uxun8t.png\n",
    "위 그림에서 1번 마을에 있는 음식점은 [1, 2, 4, 5] 번 마을까지는 3 이하의 시간에 배달할 수 있습니다. 그러나 3번 마을까지는 3시간 이내로 배달할 수 있는 경로가 없으므로 3번 마을에서는 주문을 받지 않습니다. 따라서 1번 마을에 있는 음식점이 배달 주문을 받을 수 있는 마을은 4개가 됩니다.\n",
    "마을의 개수 N, 각 마을을 연결하는 도로의 정보 road, 음식 배달이 가능한 시간 K가 매개변수로 주어질 때, 음식 주문을 받을 수 있는 마을의 개수를 return 하도록 solution 함수를 완성해주세요.\n",
    "제한사항\n",
    "마을의 개수 N은 1 이상 50 이하의 자연수입니다.\n",
    "road의 길이(도로 정보의 개수)는 1 이상 2,000 이하입니다.\n",
    "road의 각 원소는 마을을 연결하고 있는 각 도로의 정보를 나타냅니다.\n",
    "road는 길이가 3인 배열이며, 순서대로 (a, b, c)를 나타냅니다.\n",
    "a, b(1 ≤ a, b ≤ N, a != b)는 도로가 연결하는 두 마을의 번호이며, c(1 ≤ c ≤ 10,000, c는 자연수)는 도로를 지나는데 걸리는 시간입니다.\n",
    "두 마을 a, b를 연결하는 도로는 여러 개가 있을 수 있습니다.\n",
    "한 도로의 정보가 여러 번 중복해서 주어지지 않습니다.\n",
    "K는 음식 배달이 가능한 시간을 나타내며, 1 이상 500,000 이하입니다.\n",
    "임의의 두 마을간에 항상 이동 가능한 경로가 존재합니다.\n",
    "1번 마을에 있는 음식점이 K 이하의 시간에 배달이 가능한 마을의 개수를 return 하면 됩니다.\n",
    "입출력 예\n",
    "N\troad\tK\tresult\n",
    "5\t[[1,2,1],[2,3,3],[5,2,2],[1,4,2],[5,3,1],[5,4,2]]\t3\t4\n",
    "6\t[[1,2,1],[1,3,2],[2,3,2],[3,4,3],[3,5,2],[3,5,3],[5,6,1]]\t4\t4\n",
    "입출력 예 설명\n",
    "입출력 예 #1\n",
    "문제의 예시와 같습니다.\n",
    "입출력 예 #2\n",
    "주어진 마을과 도로의 모양은 아래 그림과 같습니다.\n",
    "배달_3_njc7kq.png\n",
    "1번 마을에서 배달에 4시간 이하가 걸리는 마을은 [1, 2, 3, 5] 4개이므로 4를 return 합니다."
   ]
  },
  {
   "cell_type": "code",
   "execution_count": 21,
   "metadata": {},
   "outputs": [
    {
     "name": "stdout",
     "output_type": "stream",
     "text": [
      "4\n"
     ]
    }
   ],
   "source": [
    "import heapq\n",
    "\n",
    "def solution(N, road, K):\n",
    "    answer = 0\n",
    "    maps = dict()\n",
    "    for r in road: #road 에 있는 정보 중 maps[a][b], maps[b][a] 가 가장 작은 것으로 초기화\n",
    "        if maps.get(r[0]) == None: #a -> b\n",
    "            maps[r[0]] = {r[1]:r[2]}\n",
    "        else:\n",
    "            if maps[r[0]].get(r[1]) == None:\n",
    "                maps[r[0]][r[1]] = r[2]\n",
    "            else:\n",
    "                maps[r[0]][r[1]] = min(maps[r[0]][r[1]], r[2])\n",
    "        if maps.get(r[1]) == None: # b -> a\n",
    "            maps[r[1]] = {r[0]:r[2]}\n",
    "        else:\n",
    "            if maps[r[1]].get(r[0]) == None:\n",
    "                maps[r[1]][r[0]] = r[2]\n",
    "            else:\n",
    "                maps[r[1]][r[0]] = min(maps[r[1]][r[0]], r[2])\n",
    "    #print(maps)\n",
    "    ds = {node: 500001 for node in range(1,N+1)} #1부터 다른 마을까지의 거리를 저장, Krk 500000까지 이므로 500001로 초기화\n",
    "    ds[1] = 0 # 출발 마을인 1 은  0 으로 초기화\n",
    "    queue = []\n",
    "    heapq.heappush(queue, [ds[1], 1]) #시작노드부터 탐색 [1마을까지의 거리, 1마을]\n",
    "    #print(ds)\n",
    "    while queue: #queue에 남아있는 노드가 없으면 끝\n",
    "        q = heapq.heappop(queue)\n",
    "        c_d=q[0];c_node=q[1]\n",
    "        for n_node in maps[c_node]:\n",
    "            n_d = maps[c_node][n_node]\n",
    "            distance = c_d + n_d #인접 노드를 추가한 거리\n",
    "            if distance < ds[n_node]:\n",
    "                ds[n_node] = distance # 거리 갱신\n",
    "                heapq.heappush(queue, [ds[n_node], n_node]) #다음 인접거리 계산을 위해 큐에 삽입\n",
    "    #print(ds)\n",
    "    for node in ds:\n",
    "        if ds[node] <= K:\n",
    "            answer += 1\n",
    "\n",
    "    return answer\n",
    "\n",
    "print(solution(5,[[1,2,1],[2,3,3],[5,2,2],[1,4,2],[5,3,1],[5,4,2]],3))"
   ]
  }
 ],
 "metadata": {
  "interpreter": {
   "hash": "31f2aee4e71d21fbe5cf8b01ff0e069b9275f58929596ceb00d14d90e3e16cd6"
  },
  "kernelspec": {
   "display_name": "Python 3.8.9 64-bit",
   "language": "python",
   "name": "python3"
  },
  "language_info": {
   "codemirror_mode": {
    "name": "ipython",
    "version": 3
   },
   "file_extension": ".py",
   "mimetype": "text/x-python",
   "name": "python",
   "nbconvert_exporter": "python",
   "pygments_lexer": "ipython3",
   "version": "3.8.9"
  },
  "orig_nbformat": 4
 },
 "nbformat": 4,
 "nbformat_minor": 2
}
