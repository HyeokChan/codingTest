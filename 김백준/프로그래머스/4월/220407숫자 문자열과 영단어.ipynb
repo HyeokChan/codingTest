{
 "cells": [
  {
   "cell_type": "markdown",
   "metadata": {},
   "source": [
    "숫자 문자열과 영단어"
   ]
  },
  {
   "cell_type": "markdown",
   "metadata": {},
   "source": [
    "img1.png\n",
    "네오와 프로도가 숫자놀이를 하고 있습니다. 네오가 프로도에게 숫자를 건넬 때 일부 자릿수를 영단어로 바꾼 카드를 건네주면 프로도는 원래 숫자를 찾는 게임입니다.\n",
    "\n",
    "다음은 숫자의 일부 자릿수를 영단어로 바꾸는 예시입니다.\n",
    "1478 → \"one4seveneight\"\n",
    "234567 → \"23four5six7\"\n",
    "10203 → \"1zerotwozero3\"\n",
    "이렇게 숫자의 일부 자릿수가 영단어로 바뀌어졌거나, 혹은 바뀌지 않고 그대로인 문자열 s가 매개변수로 주어집니다. s가 의미하는 원래 숫자를 return 하도록 solution 함수를 완성해주세요.\n",
    "참고로 각 숫자에 대응되는 영단어는 다음 표와 같습니다.\n",
    "숫자\t영단어\n",
    "0\tzero\n",
    "1\tone\n",
    "2\ttwo\n",
    "3\tthree\n",
    "4\tfour\n",
    "5\tfive\n",
    "6\tsix\n",
    "7\tseven\n",
    "8\teight\n",
    "9\tnine\n",
    "제한사항\n",
    "1 ≤ s의 길이 ≤ 50\n",
    "s가 \"zero\" 또는 \"0\"으로 시작하는 경우는 주어지지 않습니다.\n",
    "return 값이 1 이상 2,000,000,000 이하의 정수가 되는 올바른 입력만 s로 주어집니다.\n",
    "입출력 예\n",
    "s\tresult\n",
    "\"one4seveneight\"\t1478\n",
    "\"23four5six7\"\t234567\n",
    "\"2three45sixseven\"\t234567\n",
    "\"123\"\t123\n",
    "입출력 예 설명\n",
    "입출력 예 #1\n",
    "문제 예시와 같습니다.\n",
    "입출력 예 #2\n",
    "문제 예시와 같습니다.\n",
    "입출력 예 #3\n",
    "\"three\"는 3, \"six\"는 6, \"seven\"은 7에 대응되기 때문에 정답은 입출력 예 #2와 같은 234567이 됩니다.\n",
    "입출력 예 #2와 #3과 같이 같은 정답을 가리키는 문자열이 여러 가지가 나올 수 있습니다.\n",
    "입출력 예 #4\n",
    "s에는 영단어로 바뀐 부분이 없습니다.\n",
    "\n",
    "1. s 를 한 자 씩 반복하며 확인한다.\n",
    "2. 숫자 안에 있을 경우 그냥 문자열에 더한다.\n",
    "3. 숫자가 아닐 경우 tmp 에 더한다.\n",
    "4. tmp와 비교하며 w_list에 있는 경우 해당 인덱스를 구한다.\n",
    "5. 그 숫자를 answer_s 에 넣는다.\n",
    "6. answer_s를 숫자로 변환한다.\n",
    "\n"
   ]
  },
  {
   "cell_type": "code",
   "execution_count": 1,
   "metadata": {},
   "outputs": [
    {
     "name": "stdout",
     "output_type": "stream",
     "text": [
      "10203\n"
     ]
    }
   ],
   "source": [
    "def solution(s):\n",
    "    answer = 0\n",
    "    answer_s = ''\n",
    "    tmp = ''\n",
    "    w_list = ['zero','one','two','three','four','five','six','seven','eight','nine']\n",
    "    n_list = ['0','1','2','3','4','5','6','7','8','9']\n",
    "    for c in s:\n",
    "        if c in n_list:\n",
    "            answer_s += c\n",
    "        else:\n",
    "            tmp += c\n",
    "            idx = 0\n",
    "            for w in w_list:\n",
    "                if w == tmp:\n",
    "                    answer_s += str(idx)\n",
    "                    tmp = ''\n",
    "                idx += 1\n",
    "    answer = int(answer_s)\n",
    "    return answer\n",
    "\n",
    "print(solution(\"1zerotwozero3\"))\n",
    "\n",
    "# 10203"
   ]
  },
  {
   "cell_type": "code",
   "execution_count": null,
   "metadata": {},
   "outputs": [],
   "source": [
    "## 다른사람풀이 신박해서 가져옴\n",
    "num_dic = {\"zero\":\"0\", \"one\":\"1\", \"two\":\"2\", \"three\":\"3\", \"four\":\"4\", \"five\":\"5\", \"six\":\"6\", \"seven\":\"7\", \"eight\":\"8\", \"nine\":\"9\"}\n",
    "\n",
    "def solution(s):\n",
    "    answer = s\n",
    "    for key, value in num_dic.items():\n",
    "        answer = answer.replace(key, value)\n",
    "    return int(answer)\n",
    "\n",
    "# key value로 딕셔너리(맵 같은 것)를 만든 후\n",
    "# 문자열에서 replace를 한다.\n",
    "# 간단한 건데 의외로 생각이 안났다.\n",
    "# 대단...     "
   ]
  }
 ],
 "metadata": {
  "interpreter": {
   "hash": "31f2aee4e71d21fbe5cf8b01ff0e069b9275f58929596ceb00d14d90e3e16cd6"
  },
  "kernelspec": {
   "display_name": "Python 3.8.9 64-bit",
   "language": "python",
   "name": "python3"
  },
  "language_info": {
   "codemirror_mode": {
    "name": "ipython",
    "version": 3
   },
   "file_extension": ".py",
   "mimetype": "text/x-python",
   "name": "python",
   "nbconvert_exporter": "python",
   "pygments_lexer": "ipython3",
   "version": "3.8.9"
  },
  "orig_nbformat": 4
 },
 "nbformat": 4,
 "nbformat_minor": 2
}
