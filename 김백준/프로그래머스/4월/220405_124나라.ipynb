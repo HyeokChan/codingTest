{
 "cells": [
  {
   "cell_type": "markdown",
   "metadata": {},
   "source": [
    "124 나라의 숫자"
   ]
  },
  {
   "cell_type": "markdown",
   "metadata": {},
   "source": [
    "124 나라가 있습니다. 124 나라에서는 10진법이 아닌 다음과 같은 자신들만의 규칙으로 수를 표현합니다.\n",
    "124 나라에는 자연수만 존재합니다.\n",
    "124 나라에는 모든 수를 표현할 때 1, 2, 4만 사용합니다.\n",
    "예를 들어서 124 나라에서 사용하는 숫자는 다음과 같이 변환됩니다.\n",
    "10진법\t124 나라\t10진법\t124 나라\n",
    "1\t1\t6\t14\n",
    "2\t2\t7\t21\n",
    "3\t4\t8\t22\n",
    "4\t11\t9\t24\n",
    "5\t12\t10\t41\n",
    "자연수 n이 매개변수로 주어질 때, n을 124 나라에서 사용하는 숫자로 바꾼 값을 return 하도록 solution 함수를 완성해 주세요.\n",
    "제한사항\n",
    "n은 500,000,000이하의 자연수 입니다.\n",
    "입출력 예\n",
    "n\tresult\n",
    "1\t1\n",
    "2\t2\n",
    "3\t4\n",
    "4\t11\n",
    "\n",
    "# \n",
    "# n = a + (3**1 * b) + (3**2 * c) + ...\n",
    "# a가 3일 때 b+1이 되므로\n",
    "# n-1 = a-1 + (3**1 * b) + (3**2 * c) + ..."
   ]
  },
  {
   "cell_type": "code",
   "execution_count": 1,
   "metadata": {},
   "outputs": [
    {
     "name": "stdout",
     "output_type": "stream",
     "text": [
      "222\n",
      "444\n"
     ]
    }
   ],
   "source": [
    "def solution(n):\n",
    "    answer = ''\n",
    "    new_n = n\n",
    "    n_to_3 = ''\n",
    "    while new_n > 0:\n",
    "        new_n, m = divmod(new_n - 1, 3)\n",
    "        n_to_3 += str(m)\n",
    "    \n",
    "    n_to_3 = n_to_3[::-1]\n",
    "\n",
    "    for s in n_to_3:\n",
    "        if s == '0':\n",
    "            answer += '1'\n",
    "        elif s == '1':\n",
    "            answer += '2'\n",
    "        else:\n",
    "            answer += '4'\n",
    "\n",
    "    return answer\n",
    "\n",
    "print(solution(39))\n",
    "# 11"
   ]
  }
 ],
 "metadata": {
  "interpreter": {
   "hash": "31f2aee4e71d21fbe5cf8b01ff0e069b9275f58929596ceb00d14d90e3e16cd6"
  },
  "kernelspec": {
   "display_name": "Python 3.8.9 64-bit",
   "language": "python",
   "name": "python3"
  },
  "language_info": {
   "codemirror_mode": {
    "name": "ipython",
    "version": 3
   },
   "file_extension": ".py",
   "mimetype": "text/x-python",
   "name": "python",
   "nbconvert_exporter": "python",
   "pygments_lexer": "ipython3",
   "version": "3.9.12"
  },
  "orig_nbformat": 4
 },
 "nbformat": 4,
 "nbformat_minor": 2
}
