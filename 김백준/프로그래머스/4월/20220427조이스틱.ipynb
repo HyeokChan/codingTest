{
 "cells": [
  {
   "cell_type": "markdown",
   "metadata": {},
   "source": [
    "조이스틱"
   ]
  },
  {
   "cell_type": "markdown",
   "metadata": {},
   "source": [
    "조이스틱으로 알파벳 이름을 완성하세요. 맨 처음엔 A로만 이루어져 있습니다.\n",
    "ex) 완성해야 하는 이름이 세 글자면 AAA, 네 글자면 AAAA\n",
    "조이스틱을 각 방향으로 움직이면 아래와 같습니다.\n",
    "▲ - 다음 알파벳\n",
    "▼ - 이전 알파벳 (A에서 아래쪽으로 이동하면 Z로)\n",
    "◀ - 커서를 왼쪽으로 이동 (첫 번째 위치에서 왼쪽으로 이동하면 마지막 문자에 커서)\n",
    "▶ - 커서를 오른쪽으로 이동 (마지막 위치에서 오른쪽으로 이동하면 첫 번째 문자에 커서)\n",
    "예를 들어 아래의 방법으로 \"JAZ\"를 만들 수 있습니다.\n",
    "- 첫 번째 위치에서 조이스틱을 위로 9번 조작하여 J를 완성합니다.\n",
    "- 조이스틱을 왼쪽으로 1번 조작하여 커서를 마지막 문자 위치로 이동시킵니다.\n",
    "- 마지막 위치에서 조이스틱을 아래로 1번 조작하여 Z를 완성합니다.\n",
    "따라서 11번 이동시켜 \"JAZ\"를 만들 수 있고, 이때가 최소 이동입니다.\n",
    "만들고자 하는 이름 name이 매개변수로 주어질 때, 이름에 대해 조이스틱 조작 횟수의 최솟값을 return 하도록 solution 함수를 만드세요.\n",
    "제한 사항\n",
    "name은 알파벳 대문자로만 이루어져 있습니다.\n",
    "name의 길이는 1 이상 20 이하입니다.\n",
    "입출력 예\n",
    "name\treturn\n",
    "\"JEROEN\"\t56\n",
    "\"JAN\"\t23\n",
    "출처\n",
    "※ 공지 - 2019년 2월 28일 테스트케이스가 추가되었습니다.\n",
    "※ 공지 - 2022년 1월 14일 지문 수정 및 테스트케이스가 추가되었습니다. 이로 인해 이전에 통과하던 코드가 더 이상 통과하지 않을 수 있습니다.\n",
    "\n",
    "1. 현재위치인덱스 필요\n",
    "2. index, index + a, index - b 에 name과 일치하지 않는 글자를 찾는다. -1로 갈 때 idx < 0이면 idx += len-1, +1로 갈 때 idx == len이면 idx -= len\n",
    "3. 가장 작은 곳으로 간다. \n",
    "4. 알파벳 갯수가 26이므로 m,n이 중간이다. m 이전이면 ++, n 이후이면 --"
   ]
  },
  {
   "cell_type": "code",
   "execution_count": 17,
   "metadata": {},
   "outputs": [
    {
     "name": "stdout",
     "output_type": "stream",
     "text": [
      "JEROEN\n",
      "56\n"
     ]
    }
   ],
   "source": [
    "def solution(name):\n",
    "    answer = 0\n",
    "    if name == \"A\":\n",
    "        return 0\n",
    "    idx = 0\n",
    "    moves = {'B':1,'C':2,'D':3,'E':4,'F':5,'G':6,'H':7,'I':8,'J':9,'K':10,'L':11,'M':12\n",
    "            ,'Z':1,'Y':2,'X':3,'W':4,'V':5,'U':6,'T':7,'S':8,'R':9,'Q':10,'P':11,'O':12\n",
    "            ,'N':13}\n",
    "    n = ''\n",
    "    for i in range(len(name)):\n",
    "        n += \"A\"\n",
    "    same = False\n",
    "    while (same != True):\n",
    "        way, far, idx = find(name, n, idx)\n",
    "        if way == 'C':\n",
    "            answer += moves.get(name[idx])\n",
    "            n = n[:idx] + name[idx] + n[idx+1:]\n",
    "        if way == 'L':\n",
    "            answer += far\n",
    "            answer += moves.get(name[idx])\n",
    "            n = n[:idx] + name[idx] + n[idx+1:]\n",
    "        if way == 'R':\n",
    "            answer += far\n",
    "            answer += moves.get(name[idx])\n",
    "            n = n[:idx] + name[idx] + n[idx+1:]\n",
    "        if name == n:\n",
    "            same = True\n",
    "    \n",
    "    return answer\n",
    "\n",
    "\n",
    "def find(name, n, idx):\n",
    "    way = ''\n",
    "    far = 0\n",
    "    l = len(name)\n",
    "    l_idx = l-1 if idx-1 < 0 else idx-1\n",
    "    left = 1\n",
    "    r_idx = idx+1 - l if idx+1 == l else idx+1\n",
    "    right = 1\n",
    "    if name[idx] != n[idx]:\n",
    "        far = 0\n",
    "        way = 'C'\n",
    "        idx = idx\n",
    "        return (way, far, idx)\n",
    "    else:\n",
    "        while name[l_idx] == n[l_idx]:\n",
    "            l_idx = l-1 if l_idx-1 < 0 else l_idx-1\n",
    "            left += 1\n",
    "        while name[r_idx] == n[r_idx]:\n",
    "            r_idx = r_idx+1 - l if r_idx+1 == l else r_idx+1\n",
    "            right += 1\n",
    "        if left >= right:\n",
    "            way = 'R'\n",
    "            far = right\n",
    "            idx = r_idx\n",
    "        else:\n",
    "            way = 'L'\n",
    "            far = left\n",
    "            idx = l_idx\n",
    "        \n",
    "    return (way, far, idx)\n",
    "\n",
    "print(solution(\"JEROEN\"))\n"
   ]
  },
  {
   "cell_type": "code",
   "execution_count": 33,
   "metadata": {},
   "outputs": [
    {
     "name": "stdout",
     "output_type": "stream",
     "text": [
      "ZBCDEF\n",
      "F\n",
      "FEDCB\n",
      "True\n",
      "False\n",
      "ZBCDE\n"
     ]
    }
   ],
   "source": [
    "kk = 'ABCDEF'\n",
    "kk = kk[:0]+'Z'+kk[1:]\n",
    "print(kk)\n",
    "print(kk[-1:])\n",
    "print(kk[:0:-1])\n",
    "print(\"B\" and 'A' == 'A')\n",
    "print(False and 'A')\n",
    "print(kk[:-1])"
   ]
  },
  {
   "cell_type": "code",
   "execution_count": 19,
   "metadata": {},
   "outputs": [],
   "source": [
    "# https://programmers.co.kr/questions/26014\n",
    "def solution(name):\n",
    "    if set(name) == {'A'}:\n",
    "        return 0\n",
    "\n",
    "    answer = float('inf')\n",
    "    for i in range(len(name) // 2): # 반 이상 움직일 필요 없음\n",
    "        left_moved = name[-i:]+name[:-i]\n",
    "        right_moved = name[i:]+name[:i]\n",
    "        for n in [left_moved, right_moved[0]+right_moved[:0:-1]]:\n",
    "            while n and n[-1] == 'A':\n",
    "                n = n[:-1]\n",
    "\n",
    "            row_move = i + len(n)-1\n",
    "            col_move = 0\n",
    "            for c in map(ord, n):\n",
    "                col_move += min(c - 65, 91 - c)\n",
    "\n",
    "            answer = min(answer, row_move + col_move)\n",
    "\n",
    "    return answer"
   ]
  }
 ],
 "metadata": {
  "interpreter": {
   "hash": "31f2aee4e71d21fbe5cf8b01ff0e069b9275f58929596ceb00d14d90e3e16cd6"
  },
  "kernelspec": {
   "display_name": "Python 3.8.9 64-bit",
   "language": "python",
   "name": "python3"
  },
  "language_info": {
   "codemirror_mode": {
    "name": "ipython",
    "version": 3
   },
   "file_extension": ".py",
   "mimetype": "text/x-python",
   "name": "python",
   "nbconvert_exporter": "python",
   "pygments_lexer": "ipython3",
   "version": "3.9.12"
  },
  "orig_nbformat": 4
 },
 "nbformat": 4,
 "nbformat_minor": 2
}
