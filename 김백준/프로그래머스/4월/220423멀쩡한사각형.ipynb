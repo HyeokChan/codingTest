{
 "cells": [
  {
   "cell_type": "markdown",
   "metadata": {},
   "source": [
    "멀쩡한 사각형"
   ]
  },
  {
   "cell_type": "markdown",
   "metadata": {},
   "source": [
    "가로 길이가 Wcm, 세로 길이가 Hcm인 직사각형 종이가 있습니다. 종이에는 가로, 세로 방향과 평행하게 격자 형태로 선이 그어져 있으며, 모든 격자칸은 1cm x 1cm 크기입니다. 이 종이를 격자 선을 따라 1cm × 1cm의 정사각형으로 잘라 사용할 예정이었는데, 누군가가 이 종이를 대각선 꼭지점 2개를 잇는 방향으로 잘라 놓았습니다. 그러므로 현재 직사각형 종이는 크기가 같은 직각삼각형 2개로 나누어진 상태입니다. 새로운 종이를 구할 수 없는 상태이기 때문에, 이 종이에서 원래 종이의 가로, 세로 방향과 평행하게 1cm × 1cm로 잘라 사용할 수 있는 만큼만 사용하기로 하였습니다. \n",
    "가로의 길이 W와 세로의 길이 H가 주어질 때, 사용할 수 있는 정사각형의 개수를 구하는 solution 함수를 완성해 주세요.\n",
    "제한사항\n",
    "W, H : 1억 이하의 자연수\n",
    "입출력 예\n",
    "W\tH\tresult\n",
    "8\t12\t80\n",
    "입출력 예 설명\n",
    "입출력 예 #1\n",
    "가로가 8, 세로가 12인 직사각형을 대각선 방향으로 자르면 총 16개 정사각형을 사용할 수 없게 됩니다. 원래 직사각형에서는 96개의 정사각형을 만들 수 있었으므로, 96 - 16 = 80 을 반환합니다.\n",
    "\n",
    "h>=w 하게 만든다\n",
    "1. 기울기를 구한다.\n",
    "2. 함수를 구한다.\n",
    "3. 1칸전 y값과 1칸 후 y 값 사이의정수 갯수 + 1 한다 (math.ceil(y_before) - math.floor(y_after)) \n",
    "==> 시간초과풀이... 일일히 세기 때문이다.\n",
    "\n",
    "좋은 풀이 : 최대공약수 이용 https://leedakyeong.tistory.com/entry/프로그래머스-멀쩡한-사각형-in-python\n",
    "최대공약수\n",
    "유클리드 호제법\n",
    "1. 임의의 두 자연수 a, b가 주어졌을때. 둘중 큰 값이 a라고 가정해보겠습니다.\n",
    "2. a를 b로 나눈 나머지를 n 이라고 하면 (a%b = n)\n",
    "3. n이 0일때, b가 최대 공약수(GCD)입니다.\n",
    "만약 n이 0이 아니라면, a에 b값을 다시 넣고 n를 b에 대입 한 후 다시 위에 step2부터 반복하면 됩니다.\n",
    "\n",
    "\n",
    "\n",
    "출처: https://blockdmask.tistory.com/53 [개발자 지망생]\n",
    "\n"
   ]
  },
  {
   "cell_type": "code",
   "execution_count": 68,
   "metadata": {},
   "outputs": [
    {
     "name": "stdout",
     "output_type": "stream",
     "text": [
      "8\n"
     ]
    }
   ],
   "source": [
    "def solution(w,h):\n",
    "    answer = 1\n",
    "    minus = 0\n",
    "\n",
    "    if w >= h:\n",
    "        w, h = h, w\n",
    "    \n",
    "    \n",
    "    y_before = h\n",
    "    y_after = 0.0\n",
    "\n",
    "    for x in range(1, w+1):\n",
    "        m = 0\n",
    "        y_after = h - (x * h)/w\n",
    "        m = len(range(int(y_after), int(y_before)))\n",
    "        if y_before % 1 != 0:\n",
    "            m += 1 \n",
    "        minus += m\n",
    "        y_before = y_after\n",
    "\n",
    "    answer = (w * h) - minus\n",
    "\n",
    "    return answer\n",
    "\n",
    "print(solution(3, 5))\n",
    "\n"
   ]
  },
  {
   "cell_type": "code",
   "execution_count": 1,
   "metadata": {},
   "outputs": [
    {
     "name": "stdout",
     "output_type": "stream",
     "text": [
      "8\n"
     ]
    }
   ],
   "source": [
    "# math 라이브러리 임포트 \n",
    "import math\n",
    "\n",
    "def solution(w,h):\n",
    "    answer = 1\n",
    "    minus = 0\n",
    "\n",
    "    if w >= h:\n",
    "        w, h = h, w\n",
    "    \n",
    "    y_before = h\n",
    "    y_after = 0.0\n",
    "\n",
    "    for x in range(1, w+1):\n",
    "        m = 0\n",
    "        y_after = h - (x * h)/w\n",
    "        m = math.ceil(y_before) - math.floor(y_after)\n",
    "        minus += m\n",
    "        y_before = y_after\n",
    "\n",
    "    answer = (w * h) - minus\n",
    "\n",
    "    return answer\n",
    "\n",
    "print(solution(3, 5))"
   ]
  },
  {
   "cell_type": "code",
   "execution_count": 11,
   "metadata": {},
   "outputs": [
    {
     "name": "stdout",
     "output_type": "stream",
     "text": [
      "8\n"
     ]
    }
   ],
   "source": [
    "def solution(w,h):\n",
    "    answer = 1\n",
    "    if w >= h:\n",
    "        w,h = h,w\n",
    "\n",
    "    g = gcd(h,w)\n",
    "\n",
    "    answer = (h * w) - (h + w - g)\n",
    "    \n",
    "    return answer\n",
    "\n",
    "def gcd(a, b):\n",
    "    n = 1\n",
    "    while b != 0:\n",
    "        n = a%b \n",
    "        a = b \n",
    "        b = n\n",
    "    return a\n",
    "        \n",
    "print(solution(3,5))"
   ]
  },
  {
   "cell_type": "code",
   "execution_count": null,
   "metadata": {},
   "outputs": [],
   "source": []
  }
 ],
 "metadata": {
  "interpreter": {
   "hash": "31f2aee4e71d21fbe5cf8b01ff0e069b9275f58929596ceb00d14d90e3e16cd6"
  },
  "kernelspec": {
   "display_name": "Python 3.8.9 64-bit",
   "language": "python",
   "name": "python3"
  },
  "language_info": {
   "codemirror_mode": {
    "name": "ipython",
    "version": 3
   },
   "file_extension": ".py",
   "mimetype": "text/x-python",
   "name": "python",
   "nbconvert_exporter": "python",
   "pygments_lexer": "ipython3",
   "version": "3.8.9"
  },
  "orig_nbformat": 4
 },
 "nbformat": 4,
 "nbformat_minor": 2
}
