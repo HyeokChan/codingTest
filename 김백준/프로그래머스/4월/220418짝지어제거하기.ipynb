{
 "cells": [
  {
   "cell_type": "markdown",
   "metadata": {},
   "source": [
    "짝지어 제거하기"
   ]
  },
  {
   "cell_type": "markdown",
   "metadata": {},
   "source": [
    "짝지어 제거하기는, 알파벳 소문자로 이루어진 문자열을 가지고 시작합니다. 먼저 문자열에서 같은 알파벳이 2개 붙어 있는 짝을 찾습니다. 그다음, 그 둘을 제거한 뒤, 앞뒤로 문자열을 이어 붙입니다. 이 과정을 반복해서 문자열을 모두 제거한다면 짝지어 제거하기가 종료됩니다. 문자열 S가 주어졌을 때, 짝지어 제거하기를 성공적으로 수행할 수 있는지 반환하는 함수를 완성해 주세요. 성공적으로 수행할 수 있으면 1을, 아닐 경우 0을 리턴해주면 됩니다.\n",
    "예를 들어, 문자열 S = baabaa 라면\n",
    "b aa baa → bb aa → aa →\n",
    "의 순서로 문자열을 모두 제거할 수 있으므로 1을 반환합니다.\n",
    "제한사항\n",
    "문자열의 길이 : 1,000,000이하의 자연수\n",
    "문자열은 모두 소문자로 이루어져 있습니다.\n",
    "입출력 예\n",
    "s\tresult\n",
    "baabaa\t1\n",
    "cdcd\t0\n",
    "입출력 예 설명\n",
    "입출력 예 #1\n",
    "위의 예시와 같습니다.\n",
    "입출력 예 #2\n",
    "문자열이 남아있지만 짝지어 제거할 수 있는 문자열이 더 이상 존재하지 않기 때문에 0을 반환합니다.\n",
    "※ 공지 - 2020년 6월 8일 테스트케이스가 추가되었습니다.\n",
    "\n"
   ]
  },
  {
   "cell_type": "code",
   "execution_count": 8,
   "metadata": {},
   "outputs": [
    {
     "name": "stdout",
     "output_type": "stream",
     "text": [
      "1\n"
     ]
    }
   ],
   "source": [
    "def solution(s):\n",
    "    answer = -1\n",
    "    stack = []\n",
    "\n",
    "    for c in s:\n",
    "        if len(stack) == 0:\n",
    "            stack.append(c)\n",
    "        else:\n",
    "            pop = stack.pop()\n",
    "            if pop != c:\n",
    "                stack.append(pop)\n",
    "                stack.append(c)\n",
    "\n",
    "    if len(stack) > 0:\n",
    "        answer = 0\n",
    "    else:\n",
    "        answer = 1\n",
    "    \n",
    "    return answer\n",
    "\n",
    "print(solution('baabaa'))"
   ]
  },
  {
   "cell_type": "code",
   "execution_count": 6,
   "metadata": {},
   "outputs": [
    {
     "name": "stdout",
     "output_type": "stream",
     "text": [
      "['1', '2', '3', '4']\n"
     ]
    }
   ],
   "source": [
    "st = ['1','2','3','4','5']\n",
    "\n",
    "st.pop()\n",
    "\n",
    "print(st)"
   ]
  }
 ],
 "metadata": {
  "interpreter": {
   "hash": "31f2aee4e71d21fbe5cf8b01ff0e069b9275f58929596ceb00d14d90e3e16cd6"
  },
  "kernelspec": {
   "display_name": "Python 3.8.9 64-bit",
   "language": "python",
   "name": "python3"
  },
  "language_info": {
   "codemirror_mode": {
    "name": "ipython",
    "version": 3
   },
   "file_extension": ".py",
   "mimetype": "text/x-python",
   "name": "python",
   "nbconvert_exporter": "python",
   "pygments_lexer": "ipython3",
   "version": "3.8.9"
  },
  "orig_nbformat": 4
 },
 "nbformat": 4,
 "nbformat_minor": 2
}
