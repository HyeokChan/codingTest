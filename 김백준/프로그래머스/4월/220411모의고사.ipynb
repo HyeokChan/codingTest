{
 "cells": [
  {
   "cell_type": "markdown",
   "metadata": {},
   "source": [
    "모의고사"
   ]
  },
  {
   "cell_type": "markdown",
   "metadata": {},
   "source": [
    "수포자는 수학을 포기한 사람의 준말입니다. 수포자 삼인방은 모의고사에 수학 문제를 전부 찍으려 합니다. 수포자는 1번 문제부터 마지막 문제까지 다음과 같이 찍습니다.\n",
    "1번 수포자가 찍는 방식: 1, 2, 3, 4, 5, 1, 2, 3, 4, 5, ...\n",
    "2번 수포자가 찍는 방식: 2, 1, 2, 3, 2, 4, 2, 5, 2, 1, 2, 3, 2, 4, 2, 5, ...\n",
    "3번 수포자가 찍는 방식: 3, 3, 1, 1, 2, 2, 4, 4, 5, 5, 3, 3, 1, 1, 2, 2, 4, 4, 5, 5, ...\n",
    "1번 문제부터 마지막 문제까지의 정답이 순서대로 들은 배열 answers가 주어졌을 때, 가장 많은 문제를 맞힌 사람이 누구인지 배열에 담아 return 하도록 solution 함수를 작성해주세요.\n",
    "제한 조건\n",
    "시험은 최대 10,000 문제로 구성되어있습니다.\n",
    "문제의 정답은 1, 2, 3, 4, 5중 하나입니다.\n",
    "가장 높은 점수를 받은 사람이 여럿일 경우, return하는 값을 오름차순 정렬해주세요.\n",
    "입출력 예\n",
    "answers\treturn\n",
    "[1,2,3,4,5]\t[1]\n",
    "[1,3,2,4,2]\t[1,2,3]\n",
    "입출력 예 설명\n",
    "입출력 예 #1\n",
    "수포자 1은 모든 문제를 맞혔습니다.\n",
    "수포자 2는 모든 문제를 틀렸습니다.\n",
    "수포자 3은 모든 문제를 틀렸습니다.\n",
    "따라서 가장 문제를 많이 맞힌 사람은 수포자 1입니다.\n",
    "입출력 예 #2\n",
    "모든 사람이 2문제씩을 맞췄습니다.\n",
    "\n",
    "1. 수포자1은 %5로 풀기\n",
    "2. 수포자2는 %8 했을 때 0,2,4,6 는 2로 찍었고, 1는1, 3는3, 5은4, 7은5\n",
    "3. 수포자3은 %10 했을 때 1,2는 3, 3,4는 1, 5,6은 2, 7,8은 4, 9,0은 5\n",
    "\n",
    "4. 맞춘 갯수를 비교해서 가장 많은 갯수 파악\n",
    "5. 가장 많은 갯수와 같은 사람을 result에 넣음\n"
   ]
  },
  {
   "cell_type": "code",
   "execution_count": 1,
   "metadata": {},
   "outputs": [
    {
     "name": "stdout",
     "output_type": "stream",
     "text": [
      "[1, 2, 3]\n"
     ]
    }
   ],
   "source": [
    "def solution(answers):\n",
    "    answer = []\n",
    "\n",
    "    idx = 0\n",
    "    a_1 = 0\n",
    "    a_2 = 0\n",
    "    a_3 = 0\n",
    "    for i in answers:\n",
    "        n = idx%5\n",
    "        if n == 0 and i == 1:\n",
    "            a_1 += 1\n",
    "        elif n == 1 and i == 2: \n",
    "            a_1 += 1\n",
    "        elif n == 2 and i == 3:\n",
    "            a_1 += 1\n",
    "        elif n == 3 and i == 4:\n",
    "            a_1 += 1\n",
    "        elif n == 4 and i == 5:\n",
    "            a_1 += 1\n",
    "        idx += 1\n",
    "    \n",
    "    idx = 0\n",
    "    for i in answers:\n",
    "        n = idx%8\n",
    "        if n in [0,2,4,6] and i == 2:\n",
    "            a_2 += 1\n",
    "        elif n == 1 and i == 1:\n",
    "            a_2 += 1\n",
    "        elif n == 3 and i == 3:\n",
    "            a_2 += 1\n",
    "        elif n == 5 and i == 4:\n",
    "            a_2 += 1\n",
    "        elif n == 7 and i == 5:\n",
    "            a_2 += 1\n",
    "        idx += 1\n",
    "    \n",
    "    idx = 0\n",
    "    for i in answers:\n",
    "        n = idx%10\n",
    "        if n in [0,1] and i == 3:\n",
    "            a_3 += 1\n",
    "        elif n in [2,3] and i == 1:\n",
    "            a_3 += 1\n",
    "        elif n in [4,5] and i == 2:\n",
    "            a_3 += 1\n",
    "        elif n in [6,7] and i == 4:\n",
    "            a_3 += 1\n",
    "        elif n in [8,9] and i == 5:\n",
    "            a_3 += 1\n",
    "        idx += 1\n",
    "\n",
    "    max_num = 0\n",
    "    if max_num <= a_1:\n",
    "        max_num = a_1\n",
    "    if max_num <= a_2:\n",
    "        max_num = a_2\n",
    "    if max_num <= a_3:\n",
    "        max_num = a_3\n",
    "    \n",
    "    if a_1 == max_num:\n",
    "        answer.append(1)\n",
    "    if a_2 == max_num:\n",
    "        answer.append(2)\n",
    "    if a_3 == max_num:\n",
    "        answer.append(3)\n",
    "\n",
    "    return answer\n",
    "\n",
    "print(solution([1,3,2,4,2]))\n",
    "\n",
    "#[1,2,3]"
   ]
  },
  {
   "cell_type": "code",
   "execution_count": null,
   "metadata": {},
   "outputs": [],
   "source": [
    "#훨씬 깔끔한 코드\n",
    "def solution(answers):\n",
    "    pattern1 = [1,2,3,4,5]\n",
    "    pattern2 = [2,1,2,3,2,4,2,5]\n",
    "    pattern3 = [3,3,1,1,2,2,4,4,5,5]\n",
    "    score = [0, 0, 0]\n",
    "    result = []\n",
    "\n",
    "    for idx, answer in enumerate(answers):\n",
    "        if answer == pattern1[idx%len(pattern1)]:\n",
    "            score[0] += 1\n",
    "        if answer == pattern2[idx%len(pattern2)]:\n",
    "            score[1] += 1\n",
    "        if answer == pattern3[idx%len(pattern3)]:\n",
    "            score[2] += 1\n",
    "\n",
    "    for idx, s in enumerate(score):\n",
    "        if s == max(score):\n",
    "            result.append(idx+1)\n",
    "\n",
    "    return result"
   ]
  }
 ],
 "metadata": {
  "interpreter": {
   "hash": "31f2aee4e71d21fbe5cf8b01ff0e069b9275f58929596ceb00d14d90e3e16cd6"
  },
  "kernelspec": {
   "display_name": "Python 3.8.9 64-bit",
   "language": "python",
   "name": "python3"
  },
  "language_info": {
   "codemirror_mode": {
    "name": "ipython",
    "version": 3
   },
   "file_extension": ".py",
   "mimetype": "text/x-python",
   "name": "python",
   "nbconvert_exporter": "python",
   "pygments_lexer": "ipython3",
   "version": "3.8.9"
  },
  "orig_nbformat": 4
 },
 "nbformat": 4,
 "nbformat_minor": 2
}
