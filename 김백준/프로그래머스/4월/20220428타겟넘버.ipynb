{
 "cells": [
  {
   "cell_type": "markdown",
   "metadata": {},
   "source": [
    "타겟넘버"
   ]
  },
  {
   "cell_type": "markdown",
   "metadata": {},
   "source": [
    "n개의 음이 아닌 정수들이 있습니다. 이 정수들을 순서를 바꾸지 않고 적절히 더하거나 빼서 타겟 넘버를 만들려고 합니다. 예를 들어 [1, 1, 1, 1, 1]로 숫자 3을 만들려면 다음 다섯 방법을 쓸 수 있습니다.\n",
    "-1+1+1+1+1 = 3\n",
    "+1-1+1+1+1 = 3\n",
    "+1+1-1+1+1 = 3\n",
    "+1+1+1-1+1 = 3\n",
    "+1+1+1+1-1 = 3\n",
    "사용할 수 있는 숫자가 담긴 배열 numbers, 타겟 넘버 target이 매개변수로 주어질 때 숫자를 적절히 더하고 빼서 타겟 넘버를 만드는 방법의 수를 return 하도록 solution 함수를 작성해주세요.\n",
    "제한사항\n",
    "주어지는 숫자의 개수는 2개 이상 20개 이하입니다.\n",
    "각 숫자는 1 이상 50 이하인 자연수입니다.\n",
    "타겟 넘버는 1 이상 1000 이하인 자연수입니다.\n",
    "입출력 예\n",
    "numbers\ttarget\treturn\n",
    "[1, 1, 1, 1, 1]\t3\t5\n",
    "[4, 1, 2, 1]\t4\t2\n",
    "입출력 예 설명\n",
    "입출력 예 #1\n",
    "문제 예시와 같습니다.\n",
    "입출력 예 #2\n",
    "+4+1-2+1 = 4\n",
    "+4-1+2-1 = 4\n",
    "총 2가지 방법이 있으므로, 2를 return 합니다.\n",
    "\n",
    "\n",
    "??? 왜 이렇게 dfs가 훨씬 빠른지 모르겠당"
   ]
  },
  {
   "cell_type": "code",
   "execution_count": 5,
   "metadata": {},
   "outputs": [
    {
     "name": "stdout",
     "output_type": "stream",
     "text": [
      "2\n"
     ]
    }
   ],
   "source": [
    "#답은 맞는데 시간 초과 2개...\n",
    "\n",
    "def solution(numbers, target):\n",
    "    answer = 0\n",
    "    n = len(numbers)\n",
    "    comb = []\n",
    "    comb.append([])\n",
    "\n",
    "    while len(comb) != 2**n :\n",
    "        tmp_l = len(comb)\n",
    "        for i in range(tmp_l):\n",
    "            c = comb.pop(0)\n",
    "            c1 = c.copy()\n",
    "            c2 = c.copy()\n",
    "            c1.append('+')\n",
    "            c2.append('-')\n",
    "            comb.append(c1)\n",
    "            comb.append(c2)\n",
    "    \n",
    "    for com in comb:\n",
    "        num = 0\n",
    "        for idx in range(len(com)):\n",
    "            if com[idx] == '+':\n",
    "                num += numbers[idx]\n",
    "            elif com[idx] == '-':\n",
    "                num -= numbers[idx]\n",
    "        if num == target:\n",
    "            answer += 1\n",
    "\n",
    "    return answer\n",
    "\n",
    "print(solution([4, 1, 2, 1], 4))"
   ]
  },
  {
   "cell_type": "code",
   "execution_count": 7,
   "metadata": {},
   "outputs": [
    {
     "name": "stdout",
     "output_type": "stream",
     "text": [
      "2\n"
     ]
    }
   ],
   "source": [
    "def solution(numbers, target):\n",
    "    answer = 0\n",
    "    layer = 0\n",
    "    res = [0]\n",
    "\n",
    "    while layer != len(numbers):\n",
    "        num = numbers[layer]\n",
    "        tmp_l = len(res)\n",
    "        for i in range(tmp_l):\n",
    "            n = res.pop(0)\n",
    "            if layer == len(numbers) - 1:\n",
    "                if n + num == target or n - num == target:\n",
    "                    answer += 1\n",
    "            res.append(n + num)\n",
    "            res.append(n - num)\n",
    "        layer += 1\n",
    "\n",
    "    return answer\n",
    "\n",
    "print(solution([4, 1, 2, 1], 4))"
   ]
  },
  {
   "cell_type": "code",
   "execution_count": 19,
   "metadata": {},
   "outputs": [
    {
     "name": "stdout",
     "output_type": "stream",
     "text": [
      "2\n"
     ]
    }
   ],
   "source": [
    "#dfs\n",
    "def solution(numbers, target):\n",
    "    answer = 0\n",
    "    def dfs(i, res, numbers, target):\n",
    "        nonlocal answer\n",
    "        #print(i, res, numbers, target)\n",
    "        if i == len(numbers):\n",
    "            if res == target:\n",
    "                answer += 1\n",
    "            return\n",
    "        dfs(i+1, res + numbers[i], numbers, target)\n",
    "        dfs(i+1, res - numbers[i], numbers, target)\n",
    "    \n",
    "    dfs(0,0,numbers,target)\n",
    "\n",
    "    return answer\n",
    "\n",
    "print(solution([4, 1, 2, 1], 4))"
   ]
  },
  {
   "cell_type": "code",
   "execution_count": 3,
   "metadata": {},
   "outputs": [
    {
     "name": "stdout",
     "output_type": "stream",
     "text": [
      "[[1, 2, 3]]\n"
     ]
    }
   ],
   "source": [
    "ll = [[1,2,3]]\n",
    "lll = ll[0]\n",
    "llll = ll[0].copy()\n",
    "llll.append(5)\n",
    "\n",
    "print(ll)"
   ]
  }
 ],
 "metadata": {
  "interpreter": {
   "hash": "31f2aee4e71d21fbe5cf8b01ff0e069b9275f58929596ceb00d14d90e3e16cd6"
  },
  "kernelspec": {
   "display_name": "Python 3.8.9 64-bit",
   "language": "python",
   "name": "python3"
  },
  "language_info": {
   "codemirror_mode": {
    "name": "ipython",
    "version": 3
   },
   "file_extension": ".py",
   "mimetype": "text/x-python",
   "name": "python",
   "nbconvert_exporter": "python",
   "pygments_lexer": "ipython3",
   "version": "3.8.9"
  },
  "orig_nbformat": 4
 },
 "nbformat": 4,
 "nbformat_minor": 2
}
