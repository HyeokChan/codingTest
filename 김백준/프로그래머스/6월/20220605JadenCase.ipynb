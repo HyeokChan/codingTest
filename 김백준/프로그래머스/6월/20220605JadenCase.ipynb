{
 "cells": [
  {
   "cell_type": "markdown",
   "metadata": {},
   "source": [
    "JadenCase 문자열 만들기"
   ]
  },
  {
   "cell_type": "markdown",
   "metadata": {},
   "source": [
    "JadenCase란 모든 단어의 첫 문자가 대문자이고, 그 외의 알파벳은 소문자인 문자열입니다. 단, 첫 문자가 알파벳이 아닐 때에는 이어지는 알파벳은 소문자로 쓰면 됩니다. (첫 번째 입출력 예 참고)\n",
    "문자열 s가 주어졌을 때, s를 JadenCase로 바꾼 문자열을 리턴하는 함수, solution을 완성해주세요.\n",
    "제한 조건\n",
    "s는 길이 1 이상 200 이하인 문자열입니다.\n",
    "s는 알파벳과 숫자, 공백문자(\" \")로 이루어져 있습니다.\n",
    "숫자는 단어의 첫 문자로만 나옵니다.\n",
    "숫자로만 이루어진 단어는 없습니다.\n",
    "공백문자가 연속해서 나올 수 있습니다.\n",
    "입출력 예\n",
    "s\treturn\n",
    "\"3people unFollowed me\"\t\"3people Unfollowed Me\"\n",
    "\"for the last week\"\t\"For The Last Week\"\n"
   ]
  },
  {
   "cell_type": "code",
   "execution_count": null,
   "metadata": {},
   "outputs": [],
   "source": [
    "def solution(s):\n",
    "    answer = ''\n",
    "\n",
    "    s_list = s.split(' ')\n",
    "    n_s = ''\n",
    "\n",
    "    for ss in s_list:\n",
    "        if ss == \"\": #공백이 연속으로 있을 경우 split을 사용하면  '' 이 된다\n",
    "            n_s += \" \"\n",
    "            continue\n",
    "        if len(ss) > 1:\n",
    "            n = ss[0].upper() + ss[1:].lower()\n",
    "            n_s += \" \" + n\n",
    "        else:\n",
    "            n = ss[0].upper()\n",
    "            n_s += \" \" + n\n",
    "\n",
    "    answer = n_s[1:]\n",
    "\n",
    "    return answer"
   ]
  },
  {
   "cell_type": "code",
   "execution_count": 6,
   "metadata": {},
   "outputs": [
    {
     "data": {
      "text/plain": [
       "['ssddf', 'sdlkjf', '', 'dfdf']"
      ]
     },
     "execution_count": 6,
     "metadata": {},
     "output_type": "execute_result"
    }
   ],
   "source": [
    "\"3\".upper()\n",
    "\"ABBbbb\".lower()\n",
    "\" \".upper()\n",
    "\n",
    "\"ssddf sdlkjf  dfdf\".split(' ')"
   ]
  }
 ],
 "metadata": {
  "interpreter": {
   "hash": "b0fa6594d8f4cbf19f97940f81e996739fb7646882a419484c72d19e05852a7e"
  },
  "kernelspec": {
   "display_name": "Python 3.9.12 64-bit",
   "language": "python",
   "name": "python3"
  },
  "language_info": {
   "codemirror_mode": {
    "name": "ipython",
    "version": 3
   },
   "file_extension": ".py",
   "mimetype": "text/x-python",
   "name": "python",
   "nbconvert_exporter": "python",
   "pygments_lexer": "ipython3",
   "version": "3.9.12"
  },
  "orig_nbformat": 4
 },
 "nbformat": 4,
 "nbformat_minor": 2
}
