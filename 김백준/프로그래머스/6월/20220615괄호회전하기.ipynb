{
 "cells": [
  {
   "cell_type": "markdown",
   "metadata": {},
   "source": [
    "괄호 회전하기"
   ]
  },
  {
   "cell_type": "markdown",
   "metadata": {},
   "source": [
    "다음 규칙을 지키는 문자열을 올바른 괄호 문자열이라고 정의합니다.\n",
    "(), [], {} 는 모두 올바른 괄호 문자열입니다.\n",
    "만약 A가 올바른 괄호 문자열이라면, (A), [A], {A} 도 올바른 괄호 문자열입니다. 예를 들어, [] 가 올바른 괄호 문자열이므로, ([]) 도 올바른 괄호 문자열입니다.\n",
    "만약 A, B가 올바른 괄호 문자열이라면, AB 도 올바른 괄호 문자열입니다. 예를 들어, {} 와 ([]) 가 올바른 괄호 문자열이므로, {}([]) 도 올바른 괄호 문자열입니다.\n",
    "대괄호, 중괄호, 그리고 소괄호로 이루어진 문자열 s가 매개변수로 주어집니다. 이 s를 왼쪽으로 x (0 ≤ x < (s의 길이)) 칸만큼 회전시켰을 때 s가 올바른 괄호 문자열이 되게 하는 x의 개수를 return 하도록 solution 함수를 완성해주세요.\n",
    "제한사항\n",
    "s의 길이는 1 이상 1,000 이하입니다.\n",
    "입출력 예\n",
    "s\tresult\n",
    "\"[](){}\"\t3\n",
    "\"}]()[{\"\t2\n",
    "\"[)(]\"\t0\n",
    "\"}}}\"\t0\n",
    "입출력 예 설명\n",
    "입출력 예 #1\n",
    "다음 표는 \"[](){}\" 를 회전시킨 모습을 나타낸 것입니다.\n",
    "x\ts를 왼쪽으로 x칸만큼 회전\t올바른 괄호 문자열?\n",
    "0\t\"[](){}\"\tO\n",
    "1\t\"](){}[\"\tX\n",
    "2\t\"(){}[]\"\tO\n",
    "3\t\"){}[](\"\tX\n",
    "4\t\"{}[]()\"\tO\n",
    "5\t\"}[](){\"\tX\n",
    "올바른 괄호 문자열이 되는 x가 3개이므로, 3을 return 해야 합니다.\n",
    "입출력 예 #2\n",
    "다음 표는 \"}]()[{\" 를 회전시킨 모습을 나타낸 것입니다.\n",
    "x\ts를 왼쪽으로 x칸만큼 회전\t올바른 괄호 문자열?\n",
    "0\t\"}]()[{\"\tX\n",
    "1\t\"]()[{}\"\tX\n",
    "2\t\"()[{}]\"\tO\n",
    "3\t\")[{}](\"\tX\n",
    "4\t\"[{}]()\"\tO\n",
    "5\t\"{}]()[\"\tX\n",
    "올바른 괄호 문자열이 되는 x가 2개이므로, 2를 return 해야 합니다.\n",
    "입출력 예 #3\n",
    "s를 어떻게 회전하더라도 올바른 괄호 문자열을 만들 수 없으므로, 0을 return 해야 합니다.\n",
    "입출력 예 #4\n",
    "s를 어떻게 회전하더라도 올바른 괄호 문자열을 만들 수 없으므로, 0을 return 해야 합니다."
   ]
  },
  {
   "cell_type": "code",
   "execution_count": null,
   "metadata": {},
   "outputs": [],
   "source": [
    "def solution(s):\n",
    "    answer = 0\n",
    "    \n",
    "    for _ in range(len(s)):\n",
    "        s = s[1:] + s[0]\n",
    "        if is_right(s):\n",
    "            answer += 1\n",
    "\n",
    "    return answer\n",
    "\n",
    "def is_right(s):\n",
    "    right = False\n",
    "    stack = []\n",
    "\n",
    "    for c in s:\n",
    "        if len(stack) == 0:\n",
    "            stack.append(c)\n",
    "        else:\n",
    "            if c in ['{','[','(']:\n",
    "                stack.append(c)\n",
    "            else:\n",
    "                p = stack.pop()\n",
    "                if not ((p == '{' and c == '}') or (p == '[' and c == ']') or (p == '(' and c == ')')):\n",
    "                    stack.append(p)\n",
    "                    stack.append(c)\n",
    "    \n",
    "    if len(stack) == 0:\n",
    "        right = True\n",
    "\n",
    "    return right"
   ]
  },
  {
   "cell_type": "code",
   "execution_count": 3,
   "metadata": {},
   "outputs": [
    {
     "data": {
      "text/plain": [
       "'bcdea'"
      ]
     },
     "execution_count": 3,
     "metadata": {},
     "output_type": "execute_result"
    }
   ],
   "source": [
    "x = \"abcde\"\n",
    "x = x[1:] + x[0]\n",
    "x"
   ]
  }
 ],
 "metadata": {
  "interpreter": {
   "hash": "b0fa6594d8f4cbf19f97940f81e996739fb7646882a419484c72d19e05852a7e"
  },
  "kernelspec": {
   "display_name": "Python 3.9.12 64-bit",
   "language": "python",
   "name": "python3"
  },
  "language_info": {
   "codemirror_mode": {
    "name": "ipython",
    "version": 3
   },
   "file_extension": ".py",
   "mimetype": "text/x-python",
   "name": "python",
   "nbconvert_exporter": "python",
   "pygments_lexer": "ipython3",
   "version": "3.9.12"
  },
  "orig_nbformat": 4
 },
 "nbformat": 4,
 "nbformat_minor": 2
}
