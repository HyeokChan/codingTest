{
 "cells": [
  {
   "cell_type": "markdown",
   "metadata": {},
   "source": [
    "하노이의 탑"
   ]
  },
  {
   "cell_type": "markdown",
   "metadata": {},
   "source": [
    "하노이 탑(Tower of Hanoi)은 퍼즐의 일종입니다. 세 개의 기둥과 이 기동에 꽂을 수 있는 크기가 다양한 원판들이 있고, 퍼즐을 시작하기 전에는 한 기둥에 원판들이 작은 것이 위에 있도록 순서대로 쌓여 있습니다. 게임의 목적은 다음 두 가지 조건을 만족시키면서, 한 기둥에 꽂힌 원판들을 그 순서 그대로 다른 기둥으로 옮겨서 다시 쌓는 것입니다.\n",
    "한 번에 하나의 원판만 옮길 수 있습니다.\n",
    "큰 원판이 작은 원판 위에 있어서는 안됩니다.\n",
    "하노이 탑의 세 개의 기둥을 왼쪽 부터 1번, 2번, 3번이라고 하겠습니다. 1번에는 n개의 원판이 있고 이 n개의 원판을 3번 원판으로 최소 횟수로 옮기려고 합니다.\n",
    "1번 기둥에 있는 원판의 개수 n이 매개변수로 주어질 때, n개의 원판을 3번 원판으로 최소로 옮기는 방법을 return하는 solution를 완성해주세요.\n",
    "제한사항\n",
    "n은 15이하의 자연수 입니다.\n",
    "입출력 예\n",
    "n\tresult\n",
    "2\t[ [1,2], [1,3], [2,3] ]\n",
    "입출력 예 설명\n",
    "입출력 예 #1\n",
    "다음과 같이 옮길 수 있습니다.\n",
    "Imgur\n",
    "Imgur\n",
    "Imgur\n",
    "Imgur"
   ]
  },
  {
   "cell_type": "code",
   "execution_count": 18,
   "metadata": {},
   "outputs": [
    {
     "name": "stdout",
     "output_type": "stream",
     "text": [
      "[[[[], [], [], []], [[], [], [], []], [[], [], [], []], [[], [], [], []]], [[[], [], [], []], [[], [], [[1, 2]], [[1, 3]]], [[], [[2, 1]], [], [[2, 3]]], [[], [[3, 1]], [[3, 2]], []]], [[[], [], [], []], [[], [], [], []], [[], [], [], []], [[], [], [], []]]]\n",
      "[[1, 3]]\n",
      "[[1, 2]]\n",
      "[[3, 2]]\n",
      "[[1, 3], [1, 2], [3, 2]]\n",
      "[[1, 2], [1, 3], [2, 3]]\n"
     ]
    }
   ],
   "source": [
    "def solution(n):\n",
    "    answer = [[]]\n",
    "    # h[n][a][b] 1 ~ n 개 까지의 탑 을 옮기는 방법\n",
    "    # ex) h[n][1][3] = h[n-1][1][2] + [1,3] + h[n-1][2][3] \n",
    "\n",
    "    h = [[[[],[],[],[]],[[],[],[],[]],[[],[],[],[]],[[],[],[],[]]] for _ in range(n+1)] \n",
    "    #h[1] 초기화\n",
    "    h[1][1][2].append([1,2]); h[1][2][1].append([2,1]) \n",
    "    h[1][1][3].append([1,3]); h[1][3][1].append([3,1])\n",
    "    h[1][2][3].append([2,3]); h[1][3][2].append([3,2])\n",
    "\n",
    "\n",
    "    for i in range(2,n+1):\n",
    "        h[i][1][2] = h[i-1][1][3] + [[1,2]] + h[i-1][3][2]\n",
    "        h[i][2][1] = h[i-1][2][3] + [[2,1]] + h[i-1][3][1]\n",
    "        h[i][1][3] = h[i-1][1][2] + [[1,3]] + h[i-1][2][3]\n",
    "        h[i][3][1] = h[i-1][3][2] + [[3,1]] + h[i-1][2][1]\n",
    "        h[i][2][3] = h[i-1][2][1] + [[2,3]] + h[i-1][1][3]\n",
    "        h[i][3][2] = h[i-1][3][1] + [[3,2]] + h[i-1][1][2]\n",
    "    \n",
    "    answer = h[n][1][3]\n",
    "\n",
    "    return answer\n",
    "\n",
    "print(solution(2))"
   ]
  },
  {
   "cell_type": "code",
   "execution_count": 11,
   "metadata": {},
   "outputs": [
    {
     "data": {
      "text/plain": [
       "[[1, 2], [1, 3]]"
      ]
     },
     "execution_count": 11,
     "metadata": {},
     "output_type": "execute_result"
    }
   ],
   "source": [
    "[[1,2]] + [[1,3]]"
   ]
  }
 ],
 "metadata": {
  "interpreter": {
   "hash": "b0fa6594d8f4cbf19f97940f81e996739fb7646882a419484c72d19e05852a7e"
  },
  "kernelspec": {
   "display_name": "Python 3.9.12 64-bit",
   "language": "python",
   "name": "python3"
  },
  "language_info": {
   "codemirror_mode": {
    "name": "ipython",
    "version": 3
   },
   "file_extension": ".py",
   "mimetype": "text/x-python",
   "name": "python",
   "nbconvert_exporter": "python",
   "pygments_lexer": "ipython3",
   "version": "3.9.12"
  },
  "orig_nbformat": 4
 },
 "nbformat": 4,
 "nbformat_minor": 2
}
