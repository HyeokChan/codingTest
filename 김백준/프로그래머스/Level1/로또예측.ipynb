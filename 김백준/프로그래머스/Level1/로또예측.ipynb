{
 "cells": [
  {
   "cell_type": "markdown",
   "metadata": {},
   "source": [
    "문제 설명\n",
    "\n",
    "로또 6/45(이하 '로또'로 표기)는 1부터 45까지의 숫자 중 6개를 찍어서 맞히는 대표적인 복권입니다. 아래는 로또의 순위를 정하는 방식입니다. 1\n",
    "순위\t당첨 내용\n",
    "1\t6개 번호가 모두 일치\n",
    "2\t5개 번호가 일치\n",
    "3\t4개 번호가 일치\n",
    "4\t3개 번호가 일치\n",
    "5\t2개 번호가 일치\n",
    "6(낙첨)\t그 외\n",
    "로또를 구매한 민우는 당첨 번호 발표일을 학수고대하고 있었습니다. 하지만, 민우의 동생이 로또에 낙서를 하여, 일부 번호를 알아볼 수 없게 되었습니다. 당첨 번호 발표 후, 민우는 자신이 구매했던 로또로 당첨이 가능했던 최고 순위와 최저 순위를 알아보고 싶어 졌습니다. \n",
    "알아볼 수 없는 번호를 0으로 표기하기로 하고, 민우가 구매한 로또 번호 6개가 44, 1, 0, 0, 31 25라고 가정해보겠습니다. 당첨 번호 6개가 31, 10, 45, 1, 6, 19라면, 당첨 가능한 최고 순위와 최저 순위의 한 예는 아래와 같습니다.\n",
    "당첨 번호\t31\t10\t45\t1\t6\t19\t결과\n",
    "최고 순위 번호\t31\t0→10\t44\t1\t0→6\t25\t4개 번호 일치, 3등\n",
    "최저 순위 번호\t31\t0→11\t44\t1\t0→7\t25\t2개 번호 일치, 5등\n",
    "순서와 상관없이, 구매한 로또에 당첨 번호와 일치하는 번호가 있으면 맞힌 걸로 인정됩니다.\n",
    "알아볼 수 없는 두 개의 번호를 각각 10, 6이라고 가정하면 3등에 당첨될 수 있습니다.\n",
    "3등을 만드는 다른 방법들도 존재합니다. 하지만, 2등 이상으로 만드는 것은 불가능합니다.\n",
    "알아볼 수 없는 두 개의 번호를 각각 11, 7이라고 가정하면 5등에 당첨될 수 있습니다.\n",
    "5등을 만드는 다른 방법들도 존재합니다. 하지만, 6등(낙첨)으로 만드는 것은 불가능합니다.\n",
    "민우가 구매한 로또 번호를 담은 배열 lottos, 당첨 번호를 담은 배열 win_nums가 매개변수로 주어집니다. 이때, 당첨 가능한 최고 순위와 최저 순위를 차례대로 배열에 담아서 return 하도록 solution 함수를 완성해주세요.\n",
    "제한사항\n",
    "lottos는 길이 6인 정수 배열입니다.\n",
    "lottos의 모든 원소는 0 이상 45 이하인 정수입니다.\n",
    "0은 알아볼 수 없는 숫자를 의미합니다.\n",
    "0을 제외한 다른 숫자들은 lottos에 2개 이상 담겨있지 않습니다.\n",
    "lottos의 원소들은 정렬되어 있지 않을 수도 있습니다.\n",
    "win_nums은 길이 6인 정수 배열입니다.\n",
    "win_nums의 모든 원소는 1 이상 45 이하인 정수입니다.\n",
    "win_nums에는 같은 숫자가 2개 이상 담겨있지 않습니다.\n",
    "win_nums의 원소들은 정렬되어 있지 않을 수도 있습니다.\n",
    "입출력 예\n",
    "lottos\twin_nums\tresult\n",
    "[44, 1, 0, 0, 31, 25]\t[31, 10, 45, 1, 6, 19]\t[3, 5]\n",
    "[0, 0, 0, 0, 0, 0]\t[38, 19, 20, 40, 15, 25]\t[1, 6]\n",
    "[45, 4, 35, 20, 3, 9]\t[20, 9, 3, 45, 4, 35]\t[1, 1]\n",
    "입출력 예 설명\n",
    "입출력 예 #1\n",
    "문제 예시와 같습니다.\n",
    "입출력 예 #2\n",
    "알아볼 수 없는 번호들이 아래와 같았다면, 1등과 6등에 당첨될 수 있습니다.\n",
    "당첨 번호\t38\t19\t20\t40\t15\t25\t결과\n",
    "최고 순위 번호\t0→38\t0→19\t0→20\t0→40\t0→15\t0→25\t6개 번호 일치, 1등\n",
    "최저 순위 번호\t0→21\t0→22\t0→23\t0→24\t0→26\t0→27\t0개 번호 일치, 6등\n",
    "입출력 예 #3\n",
    "민우가 구매한 로또의 번호와 당첨 번호가 모두 일치하므로, 최고 순위와 최저 순위는 모두 1등입니다.\n",
    "실제로 사용되는 로또 순위의 결정 방식과는 약간 다르지만, 이 문제에서는 지문에 명시된 대로 로또 순위를 결정하도록 합니다.  ↩"
   ]
  },
  {
   "cell_type": "markdown",
   "metadata": {},
   "source": [
    "문제풀이\n",
    "\n",
    "1. 맞춘 갯수를 찾는다\n",
    "2. win_nums에서 맞춘 갯수를 제외하면 더 맞출 수 있는 숫자.\n",
    "3. 모르는 갯수 > win_nums - 맞춘갯수 이면 win_nums 최대 갯수만큼 더 맞출 수 있다\n",
    "4. 모르는 갯수 < win_nums - 맞춘갯수 이면 모르는 갯수 최대 갯수만큼 더 맞출 수 있다.\n",
    "5. 순위 계산 - 현재 맞춘 갯수가 최소순위 ~ 맞춘 갯수 + 맞출 수 있는 갯수 = 최대순위\n",
    "\n"
   ]
  },
  {
   "cell_type": "code",
   "execution_count": 8,
   "metadata": {},
   "outputs": [
    {
     "name": "stdout",
     "output_type": "stream",
     "text": [
      "0\n",
      "2\n",
      "2\n",
      "2\n",
      "4\n",
      "[5, 3]\n"
     ]
    }
   ],
   "source": [
    "def solution(lottos, win_nums):\n",
    "    cnt = 0 # 맞춘개수\n",
    "    z_cnt = 0 #모르는 숫자 갯수\n",
    "    m_cnt = 0 #더 맞출 수 있는 숫자\n",
    "    tot_cnt = 0 #최대 맞출 수 있는 갯수\n",
    "    for l in lottos :\n",
    "        if l == 0:\n",
    "            z_cnt += 1\n",
    "            continue\n",
    "        for w in win_nums: \n",
    "            if l == w:\n",
    "                cnt += 1\n",
    "            \n",
    "    if len(win_nums) - cnt >= z_cnt:\n",
    "        m_cnt = z_cnt\n",
    "    else:\n",
    "        m_cnt = len(win_nums) - cnt\n",
    "    print(tot_cnt)\n",
    "    print(cnt)\n",
    "    print(z_cnt)\n",
    "    print(m_cnt)\n",
    "    tot_cnt = cnt + m_cnt\n",
    "    print(tot_cnt)\n",
    "    max_rank = 0\n",
    "    if tot_cnt == 0:\n",
    "        max_rank = 6\n",
    "    else:\n",
    "        max_rank = 7 - tot_cnt\n",
    "    \n",
    "    min_rank = 0\n",
    "    if cnt == 0:\n",
    "        min_rank = 6\n",
    "    else:\n",
    "        min_rank = 7 - cnt\n",
    "\n",
    "\n",
    "\n",
    "\n",
    "    answer = [min_rank, max_rank]\n",
    "    return answer\n",
    "\n",
    "\n",
    "print(solution([44, 1, 0, 0, 31, 25],[31, 10, 45, 1, 6, 19]))"
   ]
  }
 ],
 "metadata": {
  "interpreter": {
   "hash": "b0fa6594d8f4cbf19f97940f81e996739fb7646882a419484c72d19e05852a7e"
  },
  "kernelspec": {
   "display_name": "Python 3.9.12 64-bit",
   "language": "python",
   "name": "python3"
  },
  "language_info": {
   "codemirror_mode": {
    "name": "ipython",
    "version": 3
   },
   "file_extension": ".py",
   "mimetype": "text/x-python",
   "name": "python",
   "nbconvert_exporter": "python",
   "pygments_lexer": "ipython3",
   "version": "3.8.9"
  },
  "orig_nbformat": 4
 },
 "nbformat": 4,
 "nbformat_minor": 2
}
